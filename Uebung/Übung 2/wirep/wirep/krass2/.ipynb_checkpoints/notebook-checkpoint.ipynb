{
 "cells": [
  {
   "cell_type": "markdown",
   "metadata": {},
   "source": [
    "## Assignment\n",
    "\n",
    "\n",
    "In this assignment you should explore the \"credit\" data set by numpy and pandas.\n",
    "\n",
    "The accepted format for the assignment is a \"ipython notebook\". Extend the name of this notebook by your (group) name. \n",
    "Acceptance only during the practical lessons (not per email!). \n",
    "\n",
    "Learning goals of the assignment:   \n",
    "- Using ipython notebook for documentation and data exploration.\n",
    "- Become familar with explorative data analysis with pandas.\n",
    "- data cleansing (detecting outliers etc.)\n",
    "\n",
    "\n",
    "Explore and clean the data. Answer the following questions:\n",
    "\n",
    "- Which variables have which \"level of measurement\"? \n",
    "- Identify the Null/None etc. values. Clean the data from NaN or None values.\n",
    "- Identify in which variables there could be outliers. Clean the data from outliers.\n",
    "- Explore the data by visualization and other explorative techniques (analog to the titanic data set).\n",
    "  - How are the variables distributed?\n",
    "  - Which variables could be informative for the target variable? \n",
    "  - Which correlations between variables exists?\n",
    "  - Do you assume (conditional) independence between variables?\n",
    "  \n",
    "Note: Further assignment are based on this data set."
   ]
  },
  {
   "cell_type": "code",
   "execution_count": 1,
   "metadata": {
    "collapsed": false
   },
   "outputs": [],
   "source": [
    "import numpy as np\n",
    "import pandas as pd\n",
    "%matplotlib inline\n",
    "import matplotlib.pyplot as plt\n",
    "\n",
    "# read the data into a pandas data frame\n",
    "df = pd.read_csv('./cs-training.csv')\n",
    "del df['Unnamed: 0']"
   ]
  },
  {
   "cell_type": "markdown",
   "metadata": {},
   "source": [
    "#### Description of the variables\n",
    "\n",
    "- Target Variable `SeriousDlqin2yrs` [Y/N]: Person experienced 90 days past due delinquency or worse. \n",
    "\n",
    "Features: \n",
    "- `RevolvingUtilizationOfUnsecuredLines` [percentage]: Total balance on credit cards and personal lines of credit except real estate and no installment debt like car loans divided by the sum of credit limits.\n",
    "- `age`: Age of borrower in years; integer\n",
    "- `NumberOfTime30-59DaysPastDueNotWorse` [integer]: Number of times borrower has been 30-59 days past due but no worse in the last 2 years.\n",
    "- `DebtRatio` [percentage]: Monthly debt payments, alimony,living costs divided by monthy gross income\n",
    "- `MonthlyIncome` [real]: Monthly income\n",
    "- `NumberOfOpenCreditLinesAndLoans` [integer]: Number of Open loans (installment like car loan or mortgage) and Lines of credit (e.g. credit cards)\n",
    "- `NumberOfTimes90DaysLate` [integer]: Number of times borrower has been 90 days or more past due.\n",
    "- `NumberRealEstateLoansOrLines` [integer]: Number of mortgage and real estate loans including home equity lines of credit\n",
    "- `NumberOfTime60-89DaysPastDueNotWorse` [integer]: Number of times borrower has been 60-89 days past due but no worse in the last 2 years.\n",
    "- `NumberOfDependents` [integer]: Number of dependents in family excluding themselves (spouse, children etc.)\n",
    "\n",
    "\n"
   ]
  },
  {
   "cell_type": "code",
   "execution_count": 3,
   "metadata": {
    "collapsed": false
   },
   "outputs": [
    {
     "data": {
      "text/plain": [
       "array([[<matplotlib.axes._subplots.AxesSubplot object at 0x7f1168fd2990>]], dtype=object)"
      ]
     },
     "execution_count": 3,
     "metadata": {},
     "output_type": "execute_result"
    },
    {
     "data": {
      "image/png": "[encoded data removed]",
      "text/plain": [
       "<matplotlib.figure.Figure at 0x7f1168fc4c10>"
      ]
     },
     "metadata": {},
     "output_type": "display_data"
    }
   ],
   "source": [
    "df.hist(3)"
   ]
  },
  {
   "cell_type": "code",
   "execution_count": null,
   "metadata": {
    "collapsed": true
   },
   "outputs": [],
   "source": []
  }
 ],
 "metadata": {
  "kernelspec": {
   "display_name": "Python 2",
   "language": "python",
   "name": "python2"
  },
  "language_info": {
   "codemirror_mode": {
    "name": "ipython",
    "version": 2
   },
   "file_extension": ".py",
   "mimetype": "text/x-python",
   "name": "python",
   "nbconvert_exporter": "python",
   "pygments_lexer": "ipython2",
   "version": "2.7.11"
  }
 },
 "nbformat": 4,
 "nbformat_minor": 0
}
