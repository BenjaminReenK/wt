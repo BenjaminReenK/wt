{
 "cells": [
  {
   "cell_type": "markdown",
   "metadata": {
    "slideshow": {
     "slide_type": "slide"
    }
   },
   "source": [
    "### (Bundesliga) game prediction\n",
    "\n",
    "Simple model for the predictions of soccer games: How many goals a team scores.\n",
    "\n",
    "As data only the results from prior games are used. "
   ]
  },
  {
   "cell_type": "markdown",
   "metadata": {
    "slideshow": {
     "slide_type": "notes"
    }
   },
   "source": [
    "#### Loading and processing of data "
   ]
  },
  {
   "cell_type": "code",
   "execution_count": 3,
   "metadata": {
    "collapsed": false,
    "slideshow": {
     "slide_type": "notes"
    }
   },
   "outputs": [],
   "source": [
    "%matplotlib inline\n",
    "from IPython.core.pylabtools import figsize\n",
    "import numpy as np\n",
    "from matplotlib import pyplot as plt\n",
    "import pandas as pd"
   ]
  },
  {
   "cell_type": "code",
   "execution_count": 5,
   "metadata": {
    "collapsed": false,
    "slideshow": {
     "slide_type": "notes"
    }
   },
   "outputs": [],
   "source": [
    "# some simple preprocessing of the data\n",
    "clubs = pd.read_csv(\"bundesliga_Verein.csv\", sep=';')\n",
    "del(clubs[\"Unnamed: 3\"])\n",
    "# for convinience the club id should start with 0\n",
    "clubs.V_ID = clubs.V_ID - 1\n",
    "clubs = clubs.set_index(\"V_ID\")\n",
    "#clubs"
   ]
  },
  {
   "cell_type": "code",
   "execution_count": 6,
   "metadata": {
    "collapsed": false,
    "slideshow": {
     "slide_type": "notes"
    }
   },
   "outputs": [
    {
     "data": {
      "text/plain": [
       "Int64Index([0, 1, 2, 3, 4, 5, 6, 7, 8, 9, 10, 11, 12, 13, 14, 15, 16, 17], dtype='int64', name=u'V_ID')"
      ]
     },
     "execution_count": 6,
     "metadata": {},
     "output_type": "execute_result"
    }
   ],
   "source": [
    "top_club_ids = clubs[clubs.Liga==1].index\n",
    "top_club_ids"
   ]
  },
  {
   "cell_type": "code",
   "execution_count": 7,
   "metadata": {
    "collapsed": false,
    "slideshow": {
     "slide_type": "notes"
    }
   },
   "outputs": [],
   "source": [
    "games = pd.read_csv(\"bundesliga_Spiel.csv\", sep=';')\n",
    "del(games[\"Unnamed: 8\"])\n",
    "# for convinience the club id should start with 0\n",
    "games.Heim = games.Heim-1\n",
    "games.Gast = games.Gast-1"
   ]
  },
  {
   "cell_type": "code",
   "execution_count": 8,
   "metadata": {
    "collapsed": false,
    "slideshow": {
     "slide_type": "notes"
    }
   },
   "outputs": [],
   "source": [
    "top_games = games[games.Heim.isin(top_club_ids)]"
   ]
  },
  {
   "cell_type": "code",
   "execution_count": null,
   "metadata": {
    "collapsed": true
   },
   "outputs": [],
   "source": []
  },
  {
   "cell_type": "code",
   "execution_count": 9,
   "metadata": {
    "collapsed": false
   },
   "outputs": [],
   "source": [
    "#top_games"
   ]
  },
  {
   "cell_type": "code",
   "execution_count": 10,
   "metadata": {
    "collapsed": false,
    "slideshow": {
     "slide_type": "notes"
    }
   },
   "outputs": [
    {
     "name": "stderr",
     "output_type": "stream",
     "text": [
      "/home/benni/anaconda2/lib/python2.7/site-packages/ipykernel/__main__.py:3: UserWarning: Boolean Series key will be reindexed to match DataFrame index.\n",
      "  app.launch_new_instance()\n"
     ]
    },
    {
     "data": {
      "text/plain": [
       "153"
      ]
     },
     "execution_count": 10,
     "metadata": {},
     "output_type": "execute_result"
    }
   ],
   "source": [
    "# todo: automatically \n",
    "actual_date = \"2015-12-30\"\n",
    "top_games = top_games[games.Datum < actual_date]\n",
    "len(top_games)"
   ]
  },
  {
   "cell_type": "code",
   "execution_count": 11,
   "metadata": {
    "collapsed": false,
    "slideshow": {
     "slide_type": "notes"
    }
   },
   "outputs": [],
   "source": [
    "import pymc\n",
    "import numpy as np"
   ]
  },
  {
   "cell_type": "code",
   "execution_count": 12,
   "metadata": {
    "collapsed": false,
    "slideshow": {
     "slide_type": "skip"
    }
   },
   "outputs": [],
   "source": [
    "#c = [[i,j] for i in top_club_ids if i!=j for j in top_club_ids]"
   ]
  },
  {
   "cell_type": "code",
   "execution_count": 13,
   "metadata": {
    "collapsed": false,
    "slideshow": {
     "slide_type": "notes"
    }
   },
   "outputs": [],
   "source": [
    "def get_toto_results():\n",
    "    results_ = list()\n",
    "    toto_result = list()\n",
    "    for i in top_games.iterrows():\n",
    "        r = i[1]\n",
    "        gg = r.Tore_Heim\n",
    "        ag = r.Tore_Gast\n",
    "        re = (1 if gg>ag else 2 if gg<ag else 0)\n",
    "        rr = (1 if gg>ag else -1 if gg<ag else 0)\n",
    "        toto_result.append((r.Heim, r.Gast, re))\n",
    "        results_.append((r.Heim, r.Gast, rr))\n",
    "    return toto_result, results_\n",
    "toto_results_, results_ = get_toto_results()"
   ]
  },
  {
   "cell_type": "code",
   "execution_count": 14,
   "metadata": {
    "collapsed": false,
    "slideshow": {
     "slide_type": "notes"
    }
   },
   "outputs": [],
   "source": [
    "def get_goal_results(gh=\"Tore_Gast\"):\n",
    "    result = list()\n",
    "    for i in top_games.iterrows():\n",
    "        r = i[1]\n",
    "        result.append((r.Heim, r.Gast, r[gh]))\n",
    "    return result\n",
    "\n",
    "away_goals_ = get_goal_results(\"Tore_Gast\")\n",
    "home_goals_ = get_goal_results(\"Tore_Heim\")"
   ]
  },
  {
   "cell_type": "code",
   "execution_count": 15,
   "metadata": {
    "collapsed": false
   },
   "outputs": [],
   "source": [
    "#away_goals_"
   ]
  },
  {
   "cell_type": "code",
   "execution_count": 16,
   "metadata": {
    "collapsed": true,
    "slideshow": {
     "slide_type": "notes"
    }
   },
   "outputs": [],
   "source": [
    "\n",
    "low = 0.0000000001"
   ]
  },
  {
   "cell_type": "markdown",
   "metadata": {
    "slideshow": {
     "slide_type": "notes"
    }
   },
   "source": [
    "Idea: The number of goals a team scores can be modeled with a Poisson distribution."
   ]
  },
  {
   "cell_type": "markdown",
   "metadata": {
    "slideshow": {
     "slide_type": "slide"
    }
   },
   "source": [
    "#### Poisson distribution\n",
    "\n",
    "Probability for outcome $k \\in \\{0, 1, 2, \\dots\\}$\n",
    " \n",
    "$$\n",
    "P_\\lambda (k) = \\frac{\\lambda^k}{k!}\\, \\mathrm{e}^{-\\lambda}\n",
    "$$\n",
    "\n",
    "with parameter $\\lambda>0$\n",
    "- $\\lambda$ is also the expectation and variance of the distribution"
   ]
  },
  {
   "cell_type": "code",
   "execution_count": 17,
   "metadata": {
    "collapsed": false,
    "slideshow": {
     "slide_type": "slide"
    }
   },
   "outputs": [
    {
     "data": {
      "text/plain": [
       "<matplotlib.text.Text at 0x7f931a4091d0>"
      ]
     },
     "execution_count": 17,
     "metadata": {},
     "output_type": "execute_result"
    },
    {
     "data": {
      "image/png": "[encoded data removed]",
      "text/plain": [
       "<matplotlib.figure.Figure at 0x7f931c7e6310>"
      ]
     },
     "metadata": {},
     "output_type": "display_data"
    }
   ],
   "source": [
    "import scipy.stats\n",
    "k=np.arange(0,10)\n",
    "lambda_= 2\n",
    "\n",
    "plt.figure(figsize=(8,6))\n",
    "plt.plot(k, scipy.stats.poisson.pmf(k, lambda_), 'bo', ms=6, label='poisson pmf')\n",
    "plt.xlabel(\"k\")\n",
    "plt.ylabel(\"probability mass\")"
   ]
  },
  {
   "cell_type": "markdown",
   "metadata": {
    "slideshow": {
     "slide_type": "slide"
    }
   },
   "source": [
    "#### Probabilistic Model\n",
    "\n",
    "Each team $i$ has a offence and defence strength (distribution). (Note that the average goals per game $\\approx 3 \\Rightarrow \\Delta \\mu=1.5$):\n",
    "\n",
    "$$\n",
    " offence_i \\sim \\mathcal N(\\mu=1.5, \\tau=1) \n",
    "$$\n",
    "$$\n",
    " defence_i \\sim \\mathcal N(\\mu=0, \\tau=1) \n",
    "$$\n",
    "\n",
    "$\\mathcal N$ is the Gaussian distribution with parameters \n",
    "- mean: $\\mu$\n",
    "- precision: $\\tau=1/\\sigma^2$ (variance: $\\sigma^2$)\n",
    "\n",
    "Model: The number of goals that team $i$ scores against team $j$ is Poisson distributed with \n",
    "\n",
    "$$\n",
    " goals_{ij} = Poisson \\left(\\lambda = (offence_i-defence_j) \\right)\n",
    "$$\n"
   ]
  },
  {
   "cell_type": "code",
   "execution_count": 18,
   "metadata": {
    "collapsed": false,
    "slideshow": {
     "slide_type": "skip"
    }
   },
   "outputs": [
    {
     "ename": "ImportError",
     "evalue": "No module named daft",
     "output_type": "error",
     "traceback": [
      "\u001b[1;31m---------------------------------------------------------------------------\u001b[0m",
      "\u001b[1;31mImportError\u001b[0m                               Traceback (most recent call last)",
      "\u001b[1;32m<ipython-input-18-9f1247da2fbc>\u001b[0m in \u001b[0;36m<module>\u001b[1;34m()\u001b[0m\n\u001b[1;32m----> 1\u001b[1;33m \u001b[1;32mimport\u001b[0m \u001b[0mdaft\u001b[0m\u001b[1;33m\u001b[0m\u001b[0m\n\u001b[0m\u001b[0;32m      2\u001b[0m \u001b[1;32mdef\u001b[0m \u001b[0mplot_model\u001b[0m\u001b[1;33m(\u001b[0m\u001b[1;33m)\u001b[0m\u001b[1;33m:\u001b[0m\u001b[1;33m\u001b[0m\u001b[0m\n\u001b[0;32m      3\u001b[0m     \u001b[0mpgm\u001b[0m \u001b[1;33m=\u001b[0m \u001b[0mdaft\u001b[0m\u001b[1;33m.\u001b[0m\u001b[0mPGM\u001b[0m\u001b[1;33m(\u001b[0m\u001b[1;33m[\u001b[0m\u001b[1;36m6.3\u001b[0m\u001b[1;33m,\u001b[0m \u001b[1;36m4.05\u001b[0m\u001b[1;33m]\u001b[0m\u001b[1;33m,\u001b[0m \u001b[0morigin\u001b[0m\u001b[1;33m=\u001b[0m\u001b[1;33m[\u001b[0m\u001b[1;33m-\u001b[0m\u001b[1;36m1.\u001b[0m\u001b[1;33m,\u001b[0m \u001b[1;33m-\u001b[0m\u001b[1;36m1.\u001b[0m\u001b[1;33m]\u001b[0m\u001b[1;33m,\u001b[0m \u001b[0maspect\u001b[0m\u001b[1;33m=\u001b[0m\u001b[1;36m1.\u001b[0m\u001b[1;33m)\u001b[0m\u001b[1;33m\u001b[0m\u001b[0m\n\u001b[0;32m      4\u001b[0m     \u001b[0mpgm\u001b[0m\u001b[1;33m.\u001b[0m\u001b[0madd_node\u001b[0m\u001b[1;33m(\u001b[0m\u001b[0mdaft\u001b[0m\u001b[1;33m.\u001b[0m\u001b[0mNode\u001b[0m\u001b[1;33m(\u001b[0m\u001b[1;34m\"mu_o\"\u001b[0m\u001b[1;33m,\u001b[0m \u001b[1;34mr\"$\\mu_o$\"\u001b[0m\u001b[1;33m,\u001b[0m \u001b[1;36m.5\u001b[0m\u001b[1;33m,\u001b[0m \u001b[1;36m.5\u001b[0m\u001b[1;33m,\u001b[0m \u001b[0mfixed\u001b[0m\u001b[1;33m=\u001b[0m\u001b[0mTrue\u001b[0m\u001b[1;33m)\u001b[0m\u001b[1;33m)\u001b[0m\u001b[1;33m\u001b[0m\u001b[0m\n\u001b[0;32m      5\u001b[0m     \u001b[0mpgm\u001b[0m\u001b[1;33m.\u001b[0m\u001b[0madd_node\u001b[0m\u001b[1;33m(\u001b[0m\u001b[0mdaft\u001b[0m\u001b[1;33m.\u001b[0m\u001b[0mNode\u001b[0m\u001b[1;33m(\u001b[0m\u001b[1;34m\"tau_o\"\u001b[0m\u001b[1;33m,\u001b[0m \u001b[1;34mr\"$\\tau_o$\"\u001b[0m\u001b[1;33m,\u001b[0m \u001b[1;36m.5\u001b[0m\u001b[1;33m,\u001b[0m \u001b[1;36m1.5\u001b[0m\u001b[1;33m,\u001b[0m \u001b[0mfixed\u001b[0m\u001b[1;33m=\u001b[0m\u001b[0mTrue\u001b[0m\u001b[1;33m)\u001b[0m\u001b[1;33m)\u001b[0m\u001b[1;33m\u001b[0m\u001b[0m\n",
      "\u001b[1;31mImportError\u001b[0m: No module named daft"
     ]
    }
   ],
   "source": [
    "import daft\n",
    "def plot_model():\n",
    "    pgm = daft.PGM([6.3, 4.05], origin=[-1., -1.], aspect=1.)\n",
    "    pgm.add_node(daft.Node(\"mu_o\", r\"$\\mu_o$\", .5, .5, fixed=True))\n",
    "    pgm.add_node(daft.Node(\"tau_o\", r\"$\\tau_o$\", .5, 1.5, fixed=True))    \n",
    "    pgm.add_node(daft.Node(\"o_i\", r\"o$_i$\", 1.5, 1))\n",
    "    \n",
    "    pgm.add_node(daft.Node(\"tau_d\", r\"$\\tau_d$\", 2., 3., fixed=True))\n",
    "    pgm.add_node(daft.Node(\"mu_d\", r\"$\\mu_d$\", 3., 3., fixed=True))\n",
    "    pgm.add_node(daft.Node(\"d_j\", r\"d$_j$\", 2.5, 2.2))\n",
    "    \n",
    "    #pgm.add_node(daft.Node(\"Delta\", r\"$\\Delta_{ij}$\", 2.5, 1))\n",
    "    pgm.add_node(daft.Node(\"g\", r\"g$_{ij}$\", 2.5, 1., observed=True))\n",
    "\n",
    "    \n",
    "    # Add in the edges.\n",
    "    pgm.add_edge(\"mu_o\", \"o_i\")\n",
    "    pgm.add_edge(\"tau_o\", \"o_i\")\n",
    "    pgm.add_edge(\"mu_d\", \"d_j\")\n",
    "    pgm.add_edge(\"tau_d\", \"d_j\")\n",
    "    pgm.add_edge(\"o_i\", \"g\")\n",
    "    pgm.add_edge(\"d_j\", \"g\")\n",
    "    #pgm.add_edge(\"Delta\", \"g\")\n",
    "    # And plates.\n",
    "    pgm.add_plate(daft.Plate([2., 0.2, 1., 2.5], label=r\"$j$\", shift=0.))\n",
    "    pgm.add_plate(daft.Plate([1., 0.5, 2.2, 1.1], label=r\"$i$\", shift=0.))\n",
    "    pgm.render()"
   ]
  },
  {
   "cell_type": "markdown",
   "metadata": {
    "slideshow": {
     "slide_type": "slide"
    }
   },
   "source": [
    "### Graphical representation of the model"
   ]
  },
  {
   "cell_type": "code",
   "execution_count": 19,
   "metadata": {
    "collapsed": false,
    "slideshow": {
     "slide_type": "fragment"
    }
   },
   "outputs": [
    {
     "ename": "NameError",
     "evalue": "name 'plot_model' is not defined",
     "output_type": "error",
     "traceback": [
      "\u001b[1;31m---------------------------------------------------------------------------\u001b[0m",
      "\u001b[1;31mNameError\u001b[0m                                 Traceback (most recent call last)",
      "\u001b[1;32m<ipython-input-19-26dda5753f49>\u001b[0m in \u001b[0;36m<module>\u001b[1;34m()\u001b[0m\n\u001b[1;32m----> 1\u001b[1;33m \u001b[0mplot_model\u001b[0m\u001b[1;33m(\u001b[0m\u001b[1;33m)\u001b[0m\u001b[1;33m\u001b[0m\u001b[0m\n\u001b[0m",
      "\u001b[1;31mNameError\u001b[0m: name 'plot_model' is not defined"
     ]
    }
   ],
   "source": [
    "plot_model()"
   ]
  },
  {
   "cell_type": "code",
   "execution_count": 20,
   "metadata": {
    "collapsed": false,
    "slideshow": {
     "slide_type": "skip"
    }
   },
   "outputs": [],
   "source": [
    "#top_club_ids\n",
    "#home_goals_ # (home_team_id, away_team_id, goals_of_home_team)\n",
    "#away_goals_ # (home_team_id, away_team_id, goals_of_away_team)"
   ]
  },
  {
   "cell_type": "markdown",
   "metadata": {
    "collapsed": true,
    "slideshow": {
     "slide_type": "slide"
    }
   },
   "source": [
    "### Implementation with pymc"
   ]
  },
  {
   "cell_type": "code",
   "execution_count": 21,
   "metadata": {
    "collapsed": true,
    "slideshow": {
     "slide_type": "fragment"
    }
   },
   "outputs": [],
   "source": [
    "offence = [pymc.Normal(\"offence%i\"%i, tau=1., mu=1.5) for i in top_club_ids]\n",
    "defence = [pymc.Normal(\"defence%i\"%i, tau=1., mu=0.) for i in top_club_ids]\n",
    "\n",
    " \n",
    "home_goals = [pymc.Poisson(\"home_goals_%i_%i\" % (heim,gast), \n",
    "                 observed=True, value=goals,\n",
    "                 mu = pymc.Lambda(\"home_rate_%i_%i\" % (heim, gast),\n",
    "                 lambda o=offence[heim], d=defence[gast]: low if o-d<0. else o-d))  \n",
    "              for i,(heim, gast, goals) in enumerate(home_goals_)]\n",
    "\n",
    "away_goals = [pymc.Poisson(\"away_goals_%i_%i\" % (heim,gast), \n",
    "                 observed=True, value=goals,\n",
    "                 mu = pymc.Lambda(\"away_rate_%i_%i\" % (heim, gast),\n",
    "                 lambda o=offence[gast], d=defence[heim]: low if o-d<0. else o-d))  \n",
    "              for i,(heim, gast, goals) in enumerate(away_goals_)]\n"
   ]
  },
  {
   "cell_type": "code",
   "execution_count": 22,
   "metadata": {
    "collapsed": false,
    "slideshow": {
     "slide_type": "skip"
    }
   },
   "outputs": [],
   "source": [
    "#home_goals_"
   ]
  },
  {
   "cell_type": "markdown",
   "metadata": {
    "slideshow": {
     "slide_type": "slide"
    }
   },
   "source": [
    "#### Sampling with pymc"
   ]
  },
  {
   "cell_type": "code",
   "execution_count": null,
   "metadata": {
    "collapsed": false,
    "slideshow": {
     "slide_type": "fragment"
    }
   },
   "outputs": [
    {
     "name": "stdout",
     "output_type": "stream",
     "text": [
      " [-------------    34%                  ] 4158 of 12000 complete in 29.7 sec"
     ]
    }
   ],
   "source": [
    "mcmc = pymc.MCMC([offence, defence, home_goals, away_goals])\n",
    "nb_samples=12000\n",
    "burn=4000\n",
    "mcmc.sample(nb_samples, burn=burn)#, thin=50)"
   ]
  },
  {
   "cell_type": "code",
   "execution_count": null,
   "metadata": {
    "collapsed": false,
    "slideshow": {
     "slide_type": "skip"
    }
   },
   "outputs": [],
   "source": [
    "#plt.hist(mcmc.trace(\"noise_prior\")[:])"
   ]
  },
  {
   "cell_type": "code",
   "execution_count": null,
   "metadata": {
    "collapsed": false,
    "slideshow": {
     "slide_type": "skip"
    }
   },
   "outputs": [],
   "source": [
    "id_2_club = dict()\n",
    "for i in top_club_ids: \n",
    "    id_2_club[i] = clubs[\"Name\"][i]"
   ]
  },
  {
   "cell_type": "code",
   "execution_count": null,
   "metadata": {
    "collapsed": false
   },
   "outputs": [],
   "source": [
    "id_2_club[6]"
   ]
  },
  {
   "cell_type": "code",
   "execution_count": null,
   "metadata": {
    "collapsed": false,
    "slideshow": {
     "slide_type": "skip"
    }
   },
   "outputs": [],
   "source": [
    "#np.random.normal?"
   ]
  },
  {
   "cell_type": "code",
   "execution_count": null,
   "metadata": {
    "collapsed": false,
    "slideshow": {
     "slide_type": "skip"
    }
   },
   "outputs": [],
   "source": [
    "import scipy.stats\n",
    "def print_sample_results(most_probable=True):\n",
    "    for i in top_club_ids: \n",
    "        for j in top_club_ids:\n",
    "            if i!=j:\n",
    "                if most_probable:\n",
    "                    k=0\n",
    "                    h=nb_samples-burn\n",
    "                else:\n",
    "                    k = np.random.randint(low=0, high=nb_samples - burn)\n",
    "                    h=k+1\n",
    "                \n",
    "                goals_home = np.random.poisson(diff)\n",
    "                goals_away = np.random.poisson(d)\n",
    "        \n",
    "                print clubs[clubs.index==i][\"Name\"][i].decode('latin'), \"-\",\n",
    "                print clubs[clubs.index==j][\"Name\"][j].decode('latin'), \" : \",\n",
    "                print scipy.stats.mode(goals_home).mode[0], \"-\",\n",
    "                print scipy.stats.mode(goals_away).mode[0]"
   ]
  },
  {
   "cell_type": "code",
   "execution_count": null,
   "metadata": {
    "collapsed": false,
    "slideshow": {
     "slide_type": "skip"
    }
   },
   "outputs": [],
   "source": [
    "def get_diff1(h,k,i,j):\n",
    "    diff = mcmc.trace(\"offence%i\"%i)[k:h] - mcmc.trace(\"defence%i\"%j)[k:h]\n",
    "    d = mcmc.trace(\"offence%i\"%j)[k:h] - mcmc.trace(\"defence%i\"%i)[k:h]\n",
    "    return diff, d                   \n",
    "             \n",
    "#TODO clean code    \n",
    "def print_sample_results(most_probable=True, diff_func=get_diff1, print_hook=None):\n",
    "    p=0\n",
    "    pp=0\n",
    "    nb_p=0\n",
    "    for i in top_club_ids: \n",
    "        for j in top_club_ids:\n",
    "            if i!=j:\n",
    "                if most_probable:\n",
    "                    k=0\n",
    "                    h=nb_samples - burn\n",
    "                else:\n",
    "                    k = np.random.randint(low=0, high=nb_samples - burn)\n",
    "                    h = k+1\n",
    "                    \n",
    "                diff, d = get_diff1(h,k,i,j)\n",
    "                diff[diff<0.]=low\n",
    "                d[d<0.]=low\n",
    "                \n",
    "                goals_home = np.random.poisson(diff)\n",
    "                goals_away = np.random.poisson(d)\n",
    "        \n",
    "                print clubs[clubs.index==i][\"Name\"][i].decode('latin'), \"-\",\n",
    "                print clubs[clubs.index==j][\"Name\"][j].decode('latin'), \"/ prediction: \",\n",
    "                \n",
    "                h_goals = scipy.stats.mode(goals_home).mode[0]\n",
    "                print h_goals, #\" (%2.1f)\"%(diff.mean()), \n",
    "                print \"-\",\n",
    "                a_goals = scipy.stats.mode(goals_away).mode[0]\n",
    "                print a_goals, #\" (%2.1f)\"%(d.mean()), d.mean()\n",
    "                print \"probs:\"\n",
    "                print scipy.stats.itemfreq(goals_home)\n",
    "                game=top_games[((top_games['Heim']==i) & (top_games['Gast']==j))]\n",
    "                predicted = (1 if h_goals>a_goals else 2 if h_goals<a_goals else 0)\n",
    "                if not game.empty:\n",
    "                    hg = game.Tore_Heim.values[0]\n",
    "                    ag = game.Tore_Gast.values[0]\n",
    "                    print \" / result : \",hg, \":\", ag,\n",
    "                    result = (1 if hg>ag else 2 if hg<ag else 0)\n",
    "                    nb_p +=1\n",
    "                    if result == predicted:\n",
    "                        p+=1  \n",
    "                if print_hook:\n",
    "                    pr = print_hook(k,h,i,j)\n",
    "                    if result is not None and result == pr:\n",
    "                        pp+=1\n",
    "                print\n",
    "                result=None\n",
    "    return nb_p, p, pp"
   ]
  },
  {
   "cell_type": "code",
   "execution_count": null,
   "metadata": {
    "collapsed": false,
    "slideshow": {
     "slide_type": "slide"
    }
   },
   "outputs": [],
   "source": [
    "# sampling most probable results according to the model\n",
    "#print_sample_results(most_probable=False)\n",
    "\n",
    "# Sample results from a sample of the trace\n",
    "nb_p, p, _ = print_sample_results(most_probable=True)"
   ]
  },
  {
   "cell_type": "code",
   "execution_count": null,
   "metadata": {
    "collapsed": false,
    "slideshow": {
     "slide_type": "skip"
    }
   },
   "outputs": [],
   "source": [
    "print \"train data accuracy\", float(p)/nb_p"
   ]
  },
  {
   "cell_type": "code",
   "execution_count": null,
   "metadata": {
    "collapsed": false,
    "slideshow": {
     "slide_type": "skip"
    }
   },
   "outputs": [],
   "source": [
    "# mean of offence strength\n",
    "for i in top_club_ids: \n",
    "    print clubs[clubs.index==i][\"Name\"][i].decode('latin'), \" \", mcmc.trace(\"offence%i\"%i)[:].mean()"
   ]
  },
  {
   "cell_type": "code",
   "execution_count": null,
   "metadata": {
    "collapsed": false,
    "slideshow": {
     "slide_type": "skip"
    }
   },
   "outputs": [],
   "source": [
    "# mean of defence strength\n",
    "for i in top_club_ids: \n",
    "    print clubs[clubs.index==i][\"Name\"][i].decode('latin'), \" \", mcmc.trace(\"defence%i\"%i)[:].mean()"
   ]
  },
  {
   "cell_type": "markdown",
   "metadata": {
    "slideshow": {
     "slide_type": "slide"
    }
   },
   "source": [
    "#### Sampling histograms"
   ]
  },
  {
   "cell_type": "code",
   "execution_count": null,
   "metadata": {
    "collapsed": false,
    "slideshow": {
     "slide_type": "fragment"
    }
   },
   "outputs": [],
   "source": [
    "nb_clubs = top_club_ids.max() + 1\n",
    "bins=40\n",
    "fig, axes = plt.subplots(nrows=nb_clubs, ncols=2, figsize=(10, 50))\n",
    "\n",
    "for i in top_club_ids: \n",
    "    title = \"Offence of \" + clubs[clubs.index==i][\"Name\"][i].decode('latin')\n",
    "    axes[i, 0].set_title(title)\n",
    "    axes[i, 0].hist(mcmc.trace(\"offence%i\"%i)[:], bins=bins, range=(0,4.2))\n",
    "    \n",
    "    axes[i, 1].hist(mcmc.trace(\"defence%i\"%i)[:], bins=bins, range=(-2.,2.2))\n",
    "    title = \"Defence of \" + clubs[clubs.index==i][\"Name\"][i].decode('latin')\n",
    "    axes[i, 1].set_title(title)\n",
    "\n",
    "#fig.suptitle(\"Offence and defence distribution of the clubs.\")\n",
    "fig.subplots_adjust(hspace=0.5)\n",
    "fig.tight_layout()"
   ]
  },
  {
   "cell_type": "code",
   "execution_count": null,
   "metadata": {
    "collapsed": false,
    "slideshow": {
     "slide_type": "skip"
    }
   },
   "outputs": [],
   "source": [
    "#toto_results_"
   ]
  },
  {
   "cell_type": "code",
   "execution_count": null,
   "metadata": {
    "collapsed": false
   },
   "outputs": [],
   "source": [
    "def get_diffs(team_1, team_2):\n",
    "    #TODO implement\n",
    "    return d1, d2\n",
    "    \n"
   ]
  },
  {
   "cell_type": "code",
   "execution_count": null,
   "metadata": {
    "collapsed": false
   },
   "outputs": [],
   "source": [
    "d1, d2 = get_diffs(1, 4)\n",
    "np.histogram?"
   ]
  },
  {
   "cell_type": "code",
   "execution_count": null,
   "metadata": {
    "collapsed": true
   },
   "outputs": [],
   "source": [
    "def get_goal_distribution(diff):\n",
    "    # TODO implement\n",
    "    return goal_diff\n"
   ]
  },
  {
   "cell_type": "code",
   "execution_count": null,
   "metadata": {
    "collapsed": false
   },
   "outputs": [],
   "source": []
  },
  {
   "cell_type": "code",
   "execution_count": null,
   "metadata": {
    "collapsed": false
   },
   "outputs": [],
   "source": []
  },
  {
   "cell_type": "code",
   "execution_count": null,
   "metadata": {
    "collapsed": true
   },
   "outputs": [],
   "source": [
    "def plot_goal_diffs(team_1, team_2):\n",
    "    \n",
    "    bins=40\n",
    "    (d1, d2) = get_diffs(team_1, team_2)\n",
    "    \n",
    "    goals_1 = get_goal_distribution(d1)\n",
    "    goals_2 = get_goal_distribution(d2)\n",
    "    \n",
    "    plt.figure(figsize=(10, 5))\n",
    "    ax = plt.subplot(121)\n",
    "    title = \"Goals of \" + clubs[clubs.index==team_1][\"Name\"][team_1].decode('latin')\n",
    "    ax.set_title(title)\n",
    "    _ = ax.plot(np.arange(0,20), goals_1, \"b*\")\n",
    "    ax.set_xlim(-0.5, 8.5)\n",
    "    \n",
    "    ax = plt.subplot(122)\n",
    "    title = \"Goals of \" + clubs[clubs.index==team_2][\"Name\"][team_2].decode('latin')\n",
    "    ax.set_title(title)\n",
    "    _ = ax.plot(np.arange(0,20), goals_2, \"k*\")\n",
    "    ax.set_xlim(-0.5, 8.5)"
   ]
  },
  {
   "cell_type": "code",
   "execution_count": null,
   "metadata": {
    "collapsed": false
   },
   "outputs": [],
   "source": []
  },
  {
   "cell_type": "code",
   "execution_count": null,
   "metadata": {
    "collapsed": false
   },
   "outputs": [],
   "source": [
    "plot_goal_diffs(0, 17)"
   ]
  },
  {
   "cell_type": "markdown",
   "metadata": {
    "slideshow": {
     "slide_type": "notes"
    }
   },
   "source": [
    "#### Exercise\n",
    "\n",
    "To investigate the model sample from the model without using observed data. Adapt the prior to get senseful results."
   ]
  },
  {
   "cell_type": "markdown",
   "metadata": {
    "slideshow": {
     "slide_type": "notes"
    }
   },
   "source": [
    "#### Exercice: Extension of the model\n",
    "\n",
    "Extend the model e.g. with\n",
    "- home advantage\n",
    "- take win/loose/draw into account\n"
   ]
  }
 ],
 "metadata": {
  "celltoolbar": "Slideshow",
  "kernelspec": {
   "display_name": "Python 2",
   "language": "python",
   "name": "python2"
  },
  "language_info": {
   "codemirror_mode": {
    "name": "ipython",
    "version": 2
   },
   "file_extension": ".py",
   "mimetype": "text/x-python",
   "name": "python",
   "nbconvert_exporter": "python",
   "pygments_lexer": "ipython2",
   "version": "2.7.11"
  }
 },
 "nbformat": 4,
 "nbformat_minor": 0
}
