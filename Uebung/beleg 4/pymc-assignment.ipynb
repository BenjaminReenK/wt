{
 "cells": [
  {
   "cell_type": "code",
   "execution_count": null,
   "metadata": {
    "collapsed": true
   },
   "outputs": [],
   "source": [
    "Deadline for assignment: 14. Juli "
   ]
  },
  {
   "cell_type": "markdown",
   "metadata": {},
   "source": [
    "#### Assignment prediction bundesliga\n",
    "\n",
    "Write a function for the Bundesliga Preditor (into the ipython notebook) to compute the distribution how many goals  team with id1 scores against team with id2.\n",
    "\n",
    "    def get_goal_distribution(...)\n",
    "\n",
    "The function should return a numpy array with the probabilities, e.g.\n",
    "    > array([  7.52266366e-02,   1.87908528e-01,   2.41195214e-01,\n",
    "         2.11872586e-01,   1.43138234e-01,   7.92529601e-02,\n",
    "         3.74274244e-02,   1.54933669e-02,   5.73442687e-03,\n",
    "         1.92632176e-03,   5.94202661e-04,   1.69885586e-04,\n",
    "         4.53615301e-05,   1.13827229e-05,   2.69837689e-06,\n",
    "         6.06977959e-07,   1.30043093e-07,   2.66221362e-08,\n",
    "         5.22209646e-09,   9.83872176e-10])\n",
    "         \n",
    "The first entry is the probability that the team_1 scores no goals (here .52266366e-02).    \n",
    "The second entry is the probability that the team_1 scores one goal (here 1.87908528e-01).    \n",
    "..."
   ]
  },
  {
   "cell_type": "markdown",
   "metadata": {},
   "source": [
    "#### Assigment ATP Tennis Scoring\n",
    "\n",
    "In this assignment, you’ll be using the (binary) results of the 2011 ATP men’s tennis singles for 107 players\n",
    "in a total of 1801 games (which these players played against each other in the 2011 season), to compute\n",
    "probabilistic rankings of the skills of these players.\n"
   ]
  },
  {
   "cell_type": "markdown",
   "metadata": {},
   "source": [
    "#### Data"
   ]
  },
  {
   "cell_type": "code",
   "execution_count": 2,
   "metadata": {
    "collapsed": false
   },
   "outputs": [],
   "source": [
    "%matplotlib inline\n",
    "from IPython.core.pylabtools import figsize\n",
    "import numpy as np\n",
    "from matplotlib import pyplot as plt\n",
    "import scipy.stats\n",
    "import pymc\n",
    "import operator"
   ]
  },
  {
   "cell_type": "code",
   "execution_count": null,
   "metadata": {
    "collapsed": true
   },
   "outputs": [],
   "source": []
  },
  {
   "cell_type": "code",
   "execution_count": 53,
   "metadata": {
    "collapsed": false
   },
   "outputs": [],
   "source": [
    "tennis_players = np.load(\"./tennis_players.npy\")\n",
    "nb_tennis_players = len(tennis_players)\n",
    "burn = nb_tennis_players/2"
   ]
  },
  {
   "cell_type": "code",
   "execution_count": 4,
   "metadata": {
    "collapsed": false
   },
   "outputs": [],
   "source": [
    "#tennis_players"
   ]
  },
  {
   "cell_type": "code",
   "execution_count": 5,
   "metadata": {
    "collapsed": false
   },
   "outputs": [],
   "source": [
    "tennis_games = np.load(\"./tennis_games.npy\")\n",
    "#tennis_games.shape"
   ]
  },
  {
   "cell_type": "markdown",
   "metadata": {},
   "source": [
    "tennis_games is a 1801 by 2 matrix of the played games, one row per\n",
    "game: the first column is the identity of the player who won the game, and the second column contains the\n",
    "identity of the player who lost. "
   ]
  },
  {
   "cell_type": "markdown",
   "metadata": {},
   "source": [
    "#### Assignment\n",
    "\n",
    "1. Use pymc to develop a probabilistic ranking system. The model should assign each player a score. \n",
    "2. Plot the ranking accoring to your (learnt) model.\n",
    "3. Write a function which get's as input the ids of two player and prints (or returns) a prediction of the probabilities that player 1 resp. player 2 wins.\n",
    "e.g.:\n",
    "       > print_prediction(10, 12)   \n",
    "       \n",
    "       Andy-Murray: 0.56\n",
    "       David-Nalbandian: 0.44"
   ]
  },
  {
   "cell_type": "code",
   "execution_count": 90,
   "metadata": {
    "collapsed": false
   },
   "outputs": [],
   "source": [
    "# get wincount for every player\n",
    "# http://www.python-kurs.eu/lambda.php\n",
    "map_winners = map(lambda x : x[0], tennis_games)\n",
    "# Count number of occurrences of each value in array\n",
    "wins_per_player = np.bincount(map_winners)\n",
    "# adding two entries with 0, meaning two player didn't win any games,\n",
    "# so we have an even array list (wins and losses)\n",
    "wins_per_player = np.append(wins_per_player, 0)\n",
    "wins_per_player = np.append(wins_per_player, 0)\n"
   ]
  },
  {
   "cell_type": "code",
   "execution_count": 91,
   "metadata": {
    "collapsed": false
   },
   "outputs": [],
   "source": [
    "# get loose count for every player\n",
    "map_losers = map(lambda x : x[1], tennis_games)\n",
    "losses_per_player = np.bincount(map_losers)"
   ]
  },
  {
   "cell_type": "code",
   "execution_count": 92,
   "metadata": {
    "collapsed": false
   },
   "outputs": [],
   "source": [
    "# calculating games played using wins + losses for every player\n",
    "games_played = wins_per_player + losses_per_player"
   ]
  },
  {
   "cell_type": "code",
   "execution_count": 93,
   "metadata": {
    "collapsed": false
   },
   "outputs": [],
   "source": [
    "# storing win loose count for every player in a dictionary\n",
    "players = {}\n",
    "for w, l in tennis_games:\n",
    "    if(w in players):\n",
    "        winner = players[w]\n",
    "    else:\n",
    "        winner = (0,0)\n",
    "        \n",
    "    winner = (winner[0] + 1, winner[1])\n",
    "    players[w] = winner\n",
    "    \n",
    "    if(l in players):\n",
    "        loser = players[l]\n",
    "    else:\n",
    "        loser = (0,0)\n",
    "        \n",
    "    loser = (loser[0], loser[1] + 1)\n",
    "    players[l] = loser\n",
    "    \n",
    "\n",
    "            "
   ]
  },
  {
   "cell_type": "code",
   "execution_count": 94,
   "metadata": {
    "collapsed": false
   },
   "outputs": [],
   "source": [
    "# adding total game count\n",
    "# output: wins, losses, total game count\n",
    "players = dict(map(lambda(k,v): (k, (v[0], v[1], v[0]+v[1])), players.iteritems() ))\n"
   ]
  },
  {
   "cell_type": "code",
   "execution_count": 100,
   "metadata": {
    "collapsed": false
   },
   "outputs": [
    {
     "data": {
      "text/plain": [
       "{0: (57, 15, 72, 0.7916666666666666, 'Rafael-Nadal'),\n",
       " 1: (22, 24, 46, 0.4782608695652174, 'Juan-Monaco'),\n",
       " 2: (35, 19, 54, 0.6481481481481481, 'Juan-Martin-Del-Potro'),\n",
       " 3: (32, 25, 57, 0.5614035087719298, 'Mardy-Fish'),\n",
       " 4: (58, 12, 70, 0.8285714285714286, 'Roger-Federer'),\n",
       " 5: (45, 24, 69, 0.6521739130434783, 'Jo-Wilfried-Tsonga'),\n",
       " 6: (12, 24, 36, 0.3333333333333333, 'Guillermo-Garcia-Lopez'),\n",
       " 7: (34, 22, 56, 0.6071428571428571, 'Florian-Mayer'),\n",
       " 8: (22, 16, 38, 0.5789473684210527, 'Milos-Raonic'),\n",
       " 9: (21, 25, 46, 0.45652173913043476, 'Santiago-Giraldo'),\n",
       " 10: (47, 12, 59, 0.7966101694915254, 'Andy-Murray'),\n",
       " 11: (29, 18, 47, 0.6170212765957447, 'Richard-Gasquet'),\n",
       " 12: (16, 12, 28, 0.5714285714285714, 'David-Nalbandian'),\n",
       " 13: (9, 14, 23, 0.391304347826087, 'Gilles-Muller'),\n",
       " 14: (22, 16, 38, 0.5789473684210527, 'Andy-Roddick'),\n",
       " 15: (67, 7, 74, 0.9054054054054054, 'Novak-Djokovic'),\n",
       " 16: (24, 23, 47, 0.5106382978723404, 'Fernando-Verdasco'),\n",
       " 17: (19, 24, 43, 0.4418604651162791, 'Ivan-Dodig'),\n",
       " 18: (15, 22, 37, 0.40540540540540543, 'Ryan-Sweeting'),\n",
       " 19: (20, 23, 43, 0.46511627906976744, 'Radek-Stepanek'),\n",
       " 20: (26, 18, 44, 0.5909090909090909, 'John-Isner'),\n",
       " 21: (15, 21, 36, 0.4166666666666667, 'Pablo-Andujar'),\n",
       " 22: (16, 17, 33, 0.48484848484848486, 'Ivan-Ljubicic'),\n",
       " 23: (31, 9, 40, 0.775, 'Robin-Soderling'),\n",
       " 24: (29, 24, 53, 0.5471698113207547, 'Feliciano-Lopez'),\n",
       " 25: (33, 23, 56, 0.5892857142857143, 'Marin-Cilic'),\n",
       " 26: (17, 22, 39, 0.4358974358974359, 'Marcos-Baghdatis'),\n",
       " 27: (10, 21, 31, 0.3225806451612903, 'Michael-Llodra'),\n",
       " 28: (27, 16, 43, 0.627906976744186, 'Gael-Monfils'),\n",
       " 29: (50, 19, 69, 0.7246376811594203, 'David-Ferrer'),\n",
       " 30: (15, 24, 39, 0.38461538461538464, 'Jarkko-Nieminen'),\n",
       " 31: (29, 20, 49, 0.5918367346938775, 'Kei-Nishikori'),\n",
       " 32: (29, 26, 55, 0.5272727272727272, 'Alexandr-Dolgopolov'),\n",
       " 33: (41, 22, 63, 0.6507936507936508, 'Tomas-Berdych'),\n",
       " 34: (12, 19, 31, 0.3870967741935484, 'Somdev-K-Devvarman'),\n",
       " 35: (17, 16, 33, 0.5151515151515151, 'Ivo-Karlovic'),\n",
       " 36: (8, 16, 24, 0.3333333333333333, 'Olivier-Rochus'),\n",
       " 37: (16, 16, 32, 0.5, 'Bernard-Tomic'),\n",
       " 38: (4, 10, 14, 0.2857142857142857, 'Karol-Beck'),\n",
       " 39: (17, 19, 36, 0.4722222222222222, 'Ernests-Gulbis'),\n",
       " 40: (17, 22, 39, 0.4358974358974359, 'Nikolay-Davydenko'),\n",
       " 41: (29, 25, 54, 0.5370370370370371, 'Gilles-Simon'),\n",
       " 42: (36, 22, 58, 0.6206896551724138, 'Nicolas-Almagro'),\n",
       " 43: (15, 26, 41, 0.36585365853658536, 'Fabio-Fognini'),\n",
       " 44: (15, 8, 23, 0.6521739130434783, 'Juan-Carlos-Ferrero'),\n",
       " 45: (19, 23, 42, 0.4523809523809524, 'Marcel-Granollers'),\n",
       " 46: (25, 17, 42, 0.5952380952380952, 'Stanislas-Wawrinka'),\n",
       " 47: (37, 26, 63, 0.5873015873015873, 'Janko-Tipsarevic'),\n",
       " 48: (17, 25, 42, 0.40476190476190477, 'Andreas-Seppi'),\n",
       " 49: (5, 8, 13, 0.38461538461538464, 'Simone-Bolelli'),\n",
       " 50: (13, 25, 38, 0.34210526315789475, 'Carlos-Berlocq'),\n",
       " 51: (9, 26, 35, 0.2571428571428571, 'Mikhail-Kukushkin'),\n",
       " 52: (19, 23, 42, 0.4523809523809524, 'Mikhail-Youzhny'),\n",
       " 53: (7, 23, 30, 0.23333333333333334, 'Grigor-Dimitrov'),\n",
       " 54: (14, 21, 35, 0.4, 'Sergiy-Stakhovsky'),\n",
       " 55: (10, 22, 32, 0.3125, 'Victor-Hanescu'),\n",
       " 56: (6, 9, 15, 0.4, 'Horacio-Zeballos'),\n",
       " 57: (12, 9, 21, 0.5714285714285714, 'Pablo-Cuevas'),\n",
       " 58: (5, 9, 14, 0.35714285714285715, 'Eduardo-Schwank'),\n",
       " 59: (15, 24, 39, 0.38461538461538464, 'Robin-Haase'),\n",
       " 60: (12, 20, 32, 0.375, 'Adrian-Mannarino'),\n",
       " 61: (14, 15, 29, 0.4827586206896552, 'Dmitry-Tursunov'),\n",
       " 62: (26, 25, 51, 0.5098039215686274, 'Kevin-Anderson'),\n",
       " 63: (12, 16, 28, 0.42857142857142855, 'Sam-Querrey'),\n",
       " 64: (17, 20, 37, 0.4594594594594595, 'Philipp-Petzschner'),\n",
       " 65: (15, 17, 32, 0.46875, 'James-Blake'),\n",
       " 66: (7, 18, 25, 0.28, 'Denis-Istomin'),\n",
       " 67: (8, 21, 29, 0.27586206896551724, 'Igor-Kunitsyn'),\n",
       " 68: (23, 26, 49, 0.46938775510204084, 'Philipp-Kohlschreiber'),\n",
       " 69: (12, 11, 23, 0.5217391304347826, 'Tommy-Robredo'),\n",
       " 70: (4, 10, 14, 0.2857142857142857, 'Lleyton-Hewitt'),\n",
       " 71: (12, 15, 27, 0.4444444444444444, 'Ryan-Harrison'),\n",
       " 72: (12, 20, 32, 0.375, 'Albert-Ramos'),\n",
       " 73: (13, 23, 36, 0.3611111111111111, 'Potito-Starace'),\n",
       " 74: (3, 13, 16, 0.1875, 'Rui-Machado'),\n",
       " 75: (16, 24, 40, 0.4, 'Xavier-Malisse'),\n",
       " 76: (14, 20, 34, 0.4117647058823529, 'Jurgen-Melzer'),\n",
       " 77: (13, 26, 39, 0.3333333333333333, 'Igor-Andreev'),\n",
       " 78: (17, 20, 37, 0.4594594594594595, 'Juan-Ignacio-Chela'),\n",
       " 79: (29, 25, 54, 0.5370370370370371, 'Viktor-Troicki'),\n",
       " 80: (8, 21, 29, 0.27586206896551724, 'Yen-Hsun-Lu'),\n",
       " 81: (18, 25, 43, 0.4186046511627907, 'Alex-Bogomolov-Jr'),\n",
       " 82: (2, 6, 8, 0.25, 'Fernando-Gonzalez'),\n",
       " 83: (12, 21, 33, 0.36363636363636365, 'Michael-Berrer'),\n",
       " 84: (9, 19, 28, 0.32142857142857145, 'Pere-Riba'),\n",
       " 85: (5, 12, 17, 0.29411764705882354, 'Ruben-Ramirez-Hidalgo'),\n",
       " 86: (15, 17, 32, 0.46875, 'Lukasz-Kubot'),\n",
       " 87: (4, 9, 13, 0.3076923076923077, 'Robert-Kendrick'),\n",
       " 88: (4, 11, 15, 0.26666666666666666, 'Dustin-Brown'),\n",
       " 89: (12, 21, 33, 0.36363636363636365, 'Thomaz-Bellucci'),\n",
       " 90: (16, 23, 39, 0.41025641025641024, 'Albert-Montanes'),\n",
       " 91: (7, 12, 19, 0.3684210526315789, 'Andreas-Haider-Maurer'),\n",
       " 92: (10, 16, 26, 0.38461538461538464, 'Jeremy-Chardy'),\n",
       " 93: (8, 13, 21, 0.38095238095238093, 'Arnaud-Clement'),\n",
       " 94: (11, 16, 27, 0.4074074074074074, 'Lukas-Rosol'),\n",
       " 95: (5, 5, 10, 0.5, 'Rajeev-Ram'),\n",
       " 96: (0, 3, 3, 0.0, 'Alexander-Peya'),\n",
       " 97: (0, 2, 2, 0.0, 'Juan-Sebastian-Cabal'),\n",
       " 98: (0, 1, 1, 0.0, 'Colin-Fleming'),\n",
       " 99: (1, 1, 2, 0.5, 'Santiago-Gonzalez'),\n",
       " 100: (1, 1, 2, 0.5, 'Marc-Lopez'),\n",
       " 101: (0, 4, 4, 0.0, 'Rohan-Bopanna'),\n",
       " 102: (0, 1, 1, 0.0, 'Michael-Kohlmann'),\n",
       " 103: (0, 1, 1, 0.0, 'Simon-Aspelin'),\n",
       " 104: (1, 5, 6, 0.16666666666666666, 'Mikhail-Elgin'),\n",
       " 105: (0, 1, 1, 0.0, 'Robert-Lindstedt'),\n",
       " 106: (0, 1, 1, 0.0, 'Jean-Julien-Rojer')}"
      ]
     },
     "execution_count": 100,
     "metadata": {},
     "output_type": "execute_result"
    }
   ],
   "source": [
    "# player score(winrate) based on number of wins divided by number of games played\n",
    "players = dict(map(lambda(k,v): (k, (v[0], v[1], v[2], operator.truediv(v[0], v[2]))), players.iteritems() ))\n",
    "# add player names to dictionary\n",
    "players = dict(map(lambda(k,v): (k, (v[0], v[1], v[2], v[3], tennis_players[k].encode())), players.iteritems() ))\n",
    "\n",
    "players"
   ]
  },
  {
   "cell_type": "code",
   "execution_count": 96,
   "metadata": {
    "collapsed": false
   },
   "outputs": [
    {
     "name": "stdout",
     "output_type": "stream",
     "text": [
      "Andy-Murray\n",
      "0.796610169492\n",
      "\n",
      "Marin-Cilic\n",
      "0.589285714286\n"
     ]
    }
   ],
   "source": [
    "def compare_players(p1, p2):\n",
    "    #print winpercentage of players\n",
    "    print players.values()[p1][4]\n",
    "    print players.values()[p1][3]\n",
    "    print\n",
    "    print players.values()[p2][4]\n",
    "    print players.values()[p2][3]\n",
    "    return\n",
    "\n",
    "compare_players(10,25)"
   ]
  },
  {
   "cell_type": "code",
   "execution_count": 101,
   "metadata": {
    "collapsed": false,
    "scrolled": true
   },
   "outputs": [
    {
     "name": "stdout",
     "output_type": "stream",
     "text": [
      " [-----------------100%-----------------] 1000 of 1000 complete in 71.3 sec"
     ]
    }
   ],
   "source": [
    "# assign skill to each player\n",
    "skillz = [pymc.Normal(\"skill%i\"%i, tau=1., mu=0.) for i in range(nb_tennis_players)]\n",
    "# predict outcome of all games (every1 vs every1)\n",
    "predictions = [pymc.Bernoulli(\"result_%i\"%(i), observed=True, value=1, p=pymc.InvLogit(\"invLogit\", skillz[player_1] - skillz[player_2]))\n",
    "               for i, (player_1, player_2) in enumerate(tennis_games)]\n",
    "# sampling using pymc\n",
    "m = pymc.Model([skillz, predictions])\n",
    "mc = pymc.MCMC([m])\n",
    "#mc.sample(iter=nb_tennis_players, burn=burn)\n",
    "mc.sample(iter=1000, burn=750)\n",
    "\n",
    "# get winning chance of player1 vs player2\n",
    "def get_winning_change(pi1, pi2):\n",
    "    p1_score = mc.trace(\"skill%i\"%pi1)[:].mean() \n",
    "    p2_score = mc.trace(\"skill%i\"%pi2)[:].mean()\n",
    "    diff = p1_score - p2_score\n",
    "    # calculate winning change using score difference and logistic regression\n",
    "    result = pymc.InvLogit(\"invLogit\", diff)\n",
    "    return result\n",
    "\n",
    "# print out winning chance of both players\n",
    "def prediction(p1, p2):\n",
    "    player1 = get_winning_change(p1,p2)\n",
    "    player2 = get_winning_change(p2,p1)\n",
    "    print \"-------------------\"\n",
    "    print tennis_players[p1] + \" vs \" + tennis_players[p2]\n",
    "    print \"winning chance \" + tennis_players[p1] + \": %f\" % player1\n",
    "    print \"winning chance \" + tennis_players[p2] + \": %f\" % player2\n",
    "    \n"
   ]
  },
  {
   "cell_type": "code",
   "execution_count": 102,
   "metadata": {
    "collapsed": false,
    "scrolled": false
   },
   "outputs": [
    {
     "name": "stdout",
     "output_type": "stream",
     "text": [
      "-------------------\n",
      "Juan-Monaco vs Mardy-Fish\n",
      "winning chance Juan-Monaco: 0.397186\n",
      "winning chance Mardy-Fish: 0.602814\n",
      "-------------------\n",
      "Rafael-Nadal vs Andy-Murray\n",
      "winning chance Rafael-Nadal: 0.569334\n",
      "winning chance Andy-Murray: 0.430666\n",
      "-------------------\n",
      "Novak-Djokovic vs John-Isner\n",
      "winning chance Novak-Djokovic: 0.917448\n",
      "winning chance John-Isner: 0.082552\n"
     ]
    },
    {
     "data": {
      "image/png": "[encoded data removed]",
      "text/plain": [
       "<matplotlib.figure.Figure at 0x7fdf4e156e50>"
      ]
     },
     "metadata": {},
     "output_type": "display_data"
    }
   ],
   "source": [
    "def plot_score(id):\n",
    "    bins=40\n",
    "    plt.hist(mc.trace(\"skill%i\"%id)[:], bins=bins, range=(-4,4))\n",
    "    \n",
    "\n",
    "prediction(1,3)  \n",
    "prediction(0,10)\n",
    "prediction(15,20)\n",
    "\n",
    "plot_score(1)"
   ]
  },
  {
   "cell_type": "code",
   "execution_count": null,
   "metadata": {
    "collapsed": true
   },
   "outputs": [],
   "source": []
  }
 ],
 "metadata": {
  "kernelspec": {
   "display_name": "Python 2",
   "language": "python",
   "name": "python2"
  },
  "language_info": {
   "codemirror_mode": {
    "name": "ipython",
    "version": 2
   },
   "file_extension": ".py",
   "mimetype": "text/x-python",
   "name": "python",
   "nbconvert_exporter": "python",
   "pygments_lexer": "ipython2",
   "version": "2.7.11"
  }
 },
 "nbformat": 4,
 "nbformat_minor": 0
}
