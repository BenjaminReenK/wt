{
 "cells": [
  {
   "cell_type": "markdown",
   "metadata": {},
   "source": [
    "Deadline for assignment: 14. Juli "
   ]
  },
  {
   "cell_type": "markdown",
   "metadata": {},
   "source": [
    "#### Assignment prediction bundesliga\n",
    "\n",
    "Write a function for the Bundesliga Preditor (into the ipython notebook) to compute the distribution how many goals  team with id1 scores against team with id2.\n",
    "\n",
    "    def get_goal_distribution(...)\n",
    "\n",
    "The function should return a numpy array with the probabilities, e.g.\n",
    "    > array([  7.52266366e-02,   1.87908528e-01,   2.41195214e-01,\n",
    "         2.11872586e-01,   1.43138234e-01,   7.92529601e-02,\n",
    "         3.74274244e-02,   1.54933669e-02,   5.73442687e-03,\n",
    "         1.92632176e-03,   5.94202661e-04,   1.69885586e-04,\n",
    "         4.53615301e-05,   1.13827229e-05,   2.69837689e-06,\n",
    "         6.06977959e-07,   1.30043093e-07,   2.66221362e-08,\n",
    "         5.22209646e-09,   9.83872176e-10])\n",
    "         \n",
    "The first entry is the probability that the team_1 scores no goals (here .52266366e-02).    \n",
    "The second entry is the probability that the team_1 scores one goal (here 1.87908528e-01).    \n",
    "..."
   ]
  },
  {
   "cell_type": "markdown",
   "metadata": {},
   "source": [
    "#### Assigment ATP Tennis Scoring\n",
    "\n",
    "In this assignment, you’ll be using the (binary) results of the 2011 ATP men’s tennis singles for 107 players\n",
    "in a total of 1801 games (which these players played against each other in the 2011 season), to compute\n",
    "probabilistic rankings of the skills of these players.\n"
   ]
  },
  {
   "cell_type": "markdown",
   "metadata": {},
   "source": [
    "#### Data"
   ]
  },
  {
   "cell_type": "code",
   "execution_count": null,
   "metadata": {
    "collapsed": false
   },
   "outputs": [],
   "source": [
    "%matplotlib inline\n",
    "from IPython.core.pylabtools import figsize\n",
    "import numpy as np\n",
    "from matplotlib import pyplot as plt"
   ]
  },
  {
   "cell_type": "code",
   "execution_count": null,
   "metadata": {
    "collapsed": false
   },
   "outputs": [],
   "source": [
    "tennis_players = np.load(\"./tennis_players.npy\")\n",
    "nb_tennis_players = len(tennis_players)"
   ]
  },
  {
   "cell_type": "code",
   "execution_count": null,
   "metadata": {
    "collapsed": false
   },
   "outputs": [],
   "source": [
    "#tennis_players"
   ]
  },
  {
   "cell_type": "code",
   "execution_count": null,
   "metadata": {
    "collapsed": false
   },
   "outputs": [],
   "source": [
    "tennis_games = np.load(\"./tennis_games.npy\")\n",
    "tennis_games.shape"
   ]
  },
  {
   "cell_type": "markdown",
   "metadata": {},
   "source": [
    "tennis_games is a 1801 by 2 matrix of the played games, one row per\n",
    "game: the first column is the identity of the player who won the game, and the second column contains the\n",
    "identity of the player who lost. "
   ]
  },
  {
   "cell_type": "markdown",
   "metadata": {},
   "source": [
    "#### Assignment\n",
    "\n",
    "1. Use pymc to develop a probabilistic ranking system. The model should assign each player a score. \n",
    "2. Plot the ranking accoring to your (learnt) model.\n",
    "3. Write a function which get's as input the ids of two player and prints (or returns) a prediction of the probabilities that player 1 resp. player 2 wins.\n",
    "e.g.:\n",
    "       > print_prediction(10, 12)   \n",
    "       \n",
    "       Andy-Murray: 0.56\n",
    "       David-Nalbandian: 0.44"
   ]
  },
  {
   "cell_type": "code",
   "execution_count": null,
   "metadata": {
    "collapsed": true
   },
   "outputs": [],
   "source": []
  }
 ],
 "metadata": {
  "kernelspec": {
   "display_name": "Python 2",
   "language": "python",
   "name": "python2"
  },
  "language_info": {
   "codemirror_mode": {
    "name": "ipython",
    "version": 2
   },
   "file_extension": ".py",
   "mimetype": "text/x-python",
   "name": "python",
   "nbconvert_exporter": "python",
   "pygments_lexer": "ipython2",
   "version": "2.7.11"
  }
 },
 "nbformat": 4,
 "nbformat_minor": 0
}
