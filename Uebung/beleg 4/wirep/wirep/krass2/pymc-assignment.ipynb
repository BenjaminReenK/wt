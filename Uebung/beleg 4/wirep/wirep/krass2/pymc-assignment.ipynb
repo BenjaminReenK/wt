{
 "cells": [
  {
   "cell_type": "markdown",
   "metadata": {},
   "source": [
    "In this assignment, you’ll be using the (binary) results of the 2011 ATP men’s tennis singles for 107 players\n",
    "in a total of 1801 games (which these players played against each other in the 2011 season), to compute\n",
    "probabilistic rankings of the skills of these players.\n",
    "\n",
    "(Alternative to this assignment you can develop an prediction model for the credit assignment data set.)"
   ]
  },
  {
   "cell_type": "markdown",
   "metadata": {},
   "source": [
    "#### Data"
   ]
  },
  {
   "cell_type": "code",
   "execution_count": 1,
   "metadata": {
    "collapsed": false
   },
   "outputs": [],
   "source": [
    "%matplotlib inline\n",
    "from IPython.core.pylabtools import figsize\n",
    "import numpy as np\n",
    "from matplotlib import pyplot as plt\n",
    "import scipy.stats\n",
    "import pymc\n",
    "import operator"
   ]
  },
  {
   "cell_type": "code",
   "execution_count": 2,
   "metadata": {
    "collapsed": false
   },
   "outputs": [
    {
     "data": {
      "text/plain": [
       "107"
      ]
     },
     "execution_count": 2,
     "metadata": {},
     "output_type": "execute_result"
    }
   ],
   "source": [
    "tennis_players = np.load(\"./tennis_players.npy\")\n",
    "nb_tennis_players = len(tennis_players)\n",
    "nb_tennis_players"
   ]
  },
  {
   "cell_type": "code",
   "execution_count": 3,
   "metadata": {
    "collapsed": false
   },
   "outputs": [
    {
     "data": {
      "text/plain": [
       "u'Rafael-Nadal'"
      ]
     },
     "execution_count": 3,
     "metadata": {},
     "output_type": "execute_result"
    }
   ],
   "source": [
    "tennis_players[0]"
   ]
  },
  {
   "cell_type": "code",
   "execution_count": 4,
   "metadata": {
    "collapsed": false
   },
   "outputs": [],
   "source": [
    "tennis_games = np.load(\"./tennis_games.npy\")"
   ]
  },
  {
   "cell_type": "markdown",
   "metadata": {},
   "source": [
    "tennis_games is a 1801 by 2 matrix of the played games, one row per\n",
    "game: the first column is the identity of the player who won the game, and the second column contains the\n",
    "identity of the player who lost. "
   ]
  },
  {
   "cell_type": "markdown",
   "metadata": {},
   "source": [
    "#### Assignment\n",
    "\n",
    "1. Use pymc to develop a probabilistic ranking system. The model should assign each player a score. \n",
    "2. Plot the ranking accoring to your (learnt) model.\n",
    "3. Write a function which get's as input the ids of two player and prints (or returns) a prediction of the probabilities that player 1 resp. player 2 wins.\n",
    "e.g.:\n",
    "       > print_prediction(10, 12)   \n",
    "       \n",
    "       Andy-Murray: 0.56\n",
    "       David-Nalbandian: 0.44"
   ]
  },
  {
   "cell_type": "code",
   "execution_count": 5,
   "metadata": {
    "collapsed": false
   },
   "outputs": [
    {
     "data": {
      "text/plain": [
       "array([57, 22, 35, 32, 58, 45, 12, 34, 22, 21, 47, 29, 16,  9, 22, 67, 24,\n",
       "       19, 15, 20, 26, 15, 16, 31, 29, 33, 17, 10, 27, 50, 15, 29, 29, 41,\n",
       "       12, 17,  8, 16,  4, 17, 17, 29, 36, 15, 15, 19, 25, 37, 17,  5, 13,\n",
       "        9, 19,  7, 14, 10,  6, 12,  5, 15, 12, 14, 26, 12, 17, 15,  7,  8,\n",
       "       23, 12,  4, 12, 12, 13,  3, 16, 14, 13, 17, 29,  8, 18,  2, 12,  9,\n",
       "        5, 15,  4,  4, 12, 16,  7, 10,  8, 11,  5,  0,  0,  0,  1,  1,  0,\n",
       "        0,  0,  1])"
      ]
     },
     "execution_count": 5,
     "metadata": {},
     "output_type": "execute_result"
    }
   ],
   "source": [
    "map_winners = map(lambda x : x[0], tennis_games)\n",
    "#http://www.python-kurs.eu/lambda.php\n",
    "wins_per_player = np.bincount(map_winners)\n",
    "wins_per_player"
   ]
  },
  {
   "cell_type": "code",
   "execution_count": 14,
   "metadata": {
    "collapsed": false
   },
   "outputs": [
    {
     "data": {
      "text/plain": [
       "array([15, 24, 19, 25, 12, 24, 24, 22, 16, 25, 12, 18, 12, 14, 16,  7, 23,\n",
       "       24, 22, 23, 18, 21, 17,  9, 24, 23, 22, 21, 16, 19, 24, 20, 26, 22,\n",
       "       19, 16, 16, 16, 10, 19, 22, 25, 22, 26,  8, 23, 17, 26, 25,  8, 25,\n",
       "       26, 23, 23, 21, 22,  9,  9,  9, 24, 20, 15, 25, 16, 20, 17, 18, 21,\n",
       "       26, 11, 10, 15, 20, 23, 13, 24, 20, 26, 20, 25, 21, 25,  6, 21, 19,\n",
       "       12, 17,  9, 11, 21, 23, 12, 16, 13, 16,  5,  3,  2,  1,  1,  1,  4,\n",
       "        1,  1,  5,  1,  1])"
      ]
     },
     "execution_count": 14,
     "metadata": {},
     "output_type": "execute_result"
    }
   ],
   "source": [
    "map_losers = map(lambda x : x[1], tennis_games)\n",
    "losses_per_player = np.bincount(map_losers)\n",
    "losses_per_player"
   ]
  },
  {
   "cell_type": "code",
   "execution_count": 15,
   "metadata": {
    "collapsed": false
   },
   "outputs": [
    {
     "ename": "ValueError",
     "evalue": "operands could not be broadcast together with shapes (105,) (107,) ",
     "output_type": "error",
     "traceback": [
      "\u001b[1;31m---------------------------------------------------------------------------\u001b[0m",
      "\u001b[1;31mValueError\u001b[0m                                Traceback (most recent call last)",
      "\u001b[1;32m<ipython-input-15-74fe0252d0b5>\u001b[0m in \u001b[0;36m<module>\u001b[1;34m()\u001b[0m\n\u001b[1;32m----> 1\u001b[1;33m \u001b[0mgames_played\u001b[0m \u001b[1;33m=\u001b[0m \u001b[0mwins_per_player\u001b[0m \u001b[1;33m+\u001b[0m \u001b[0mlosses_per_player\u001b[0m\u001b[1;33m\u001b[0m\u001b[0m\n\u001b[0m\u001b[0;32m      2\u001b[0m \u001b[0mgames_played\u001b[0m\u001b[1;33m\u001b[0m\u001b[0m\n",
      "\u001b[1;31mValueError\u001b[0m: operands could not be broadcast together with shapes (105,) (107,) "
     ]
    }
   ],
   "source": [
    "games_played = wins_per_player + losses_per_player\n",
    "games_played"
   ]
  },
  {
   "cell_type": "code",
   "execution_count": 16,
   "metadata": {
    "collapsed": false,
    "scrolled": true
   },
   "outputs": [
    {
     "data": {
      "text/plain": [
       "{0: (57, 15),\n",
       " 1: (22, 24),\n",
       " 2: (35, 19),\n",
       " 3: (32, 25),\n",
       " 4: (58, 12),\n",
       " 5: (45, 24),\n",
       " 6: (12, 24),\n",
       " 7: (34, 22),\n",
       " 8: (22, 16),\n",
       " 9: (21, 25),\n",
       " 10: (47, 12),\n",
       " 11: (29, 18),\n",
       " 12: (16, 12),\n",
       " 13: (9, 14),\n",
       " 14: (22, 16),\n",
       " 15: (67, 7),\n",
       " 16: (24, 23),\n",
       " 17: (19, 24),\n",
       " 18: (15, 22),\n",
       " 19: (20, 23),\n",
       " 20: (26, 18),\n",
       " 21: (15, 21),\n",
       " 22: (16, 17),\n",
       " 23: (31, 9),\n",
       " 24: (29, 24),\n",
       " 25: (33, 23),\n",
       " 26: (17, 22),\n",
       " 27: (10, 21),\n",
       " 28: (27, 16),\n",
       " 29: (50, 19),\n",
       " 30: (15, 24),\n",
       " 31: (29, 20),\n",
       " 32: (29, 26),\n",
       " 33: (41, 22),\n",
       " 34: (12, 19),\n",
       " 35: (17, 16),\n",
       " 36: (8, 16),\n",
       " 37: (16, 16),\n",
       " 38: (4, 10),\n",
       " 39: (17, 19),\n",
       " 40: (17, 22),\n",
       " 41: (29, 25),\n",
       " 42: (36, 22),\n",
       " 43: (15, 26),\n",
       " 44: (15, 8),\n",
       " 45: (19, 23),\n",
       " 46: (25, 17),\n",
       " 47: (37, 26),\n",
       " 48: (17, 25),\n",
       " 49: (5, 8),\n",
       " 50: (13, 25),\n",
       " 51: (9, 26),\n",
       " 52: (19, 23),\n",
       " 53: (7, 23),\n",
       " 54: (14, 21),\n",
       " 55: (10, 22),\n",
       " 56: (6, 9),\n",
       " 57: (12, 9),\n",
       " 58: (5, 9),\n",
       " 59: (15, 24),\n",
       " 60: (12, 20),\n",
       " 61: (14, 15),\n",
       " 62: (26, 25),\n",
       " 63: (12, 16),\n",
       " 64: (17, 20),\n",
       " 65: (15, 17),\n",
       " 66: (7, 18),\n",
       " 67: (8, 21),\n",
       " 68: (23, 26),\n",
       " 69: (12, 11),\n",
       " 70: (4, 10),\n",
       " 71: (12, 15),\n",
       " 72: (12, 20),\n",
       " 73: (13, 23),\n",
       " 74: (3, 13),\n",
       " 75: (16, 24),\n",
       " 76: (14, 20),\n",
       " 77: (13, 26),\n",
       " 78: (17, 20),\n",
       " 79: (29, 25),\n",
       " 80: (8, 21),\n",
       " 81: (18, 25),\n",
       " 82: (2, 6),\n",
       " 83: (12, 21),\n",
       " 84: (9, 19),\n",
       " 85: (5, 12),\n",
       " 86: (15, 17),\n",
       " 87: (4, 9),\n",
       " 88: (4, 11),\n",
       " 89: (12, 21),\n",
       " 90: (16, 23),\n",
       " 91: (7, 12),\n",
       " 92: (10, 16),\n",
       " 93: (8, 13),\n",
       " 94: (11, 16),\n",
       " 95: (5, 5),\n",
       " 96: (0, 3),\n",
       " 97: (0, 2),\n",
       " 98: (0, 1),\n",
       " 99: (1, 1),\n",
       " 100: (1, 1),\n",
       " 101: (0, 4),\n",
       " 102: (0, 1),\n",
       " 103: (0, 1),\n",
       " 104: (1, 5),\n",
       " 105: (0, 1),\n",
       " 106: (0, 1)}"
      ]
     },
     "execution_count": 16,
     "metadata": {},
     "output_type": "execute_result"
    }
   ],
   "source": [
    "players = {}\n",
    "for w, l in tennis_games:\n",
    "    if(w in players):\n",
    "        winner = players[w]\n",
    "    else:\n",
    "        winner = (0,0)\n",
    "        \n",
    "    winner = (winner[0] + 1, winner[1])\n",
    "    players[w] = winner\n",
    "    \n",
    "    if(l in players):\n",
    "        loser = players[l]\n",
    "    else:\n",
    "        loser = (0,0)\n",
    "        \n",
    "    loser = (loser[0], loser[1] + 1)\n",
    "    players[l] = loser\n",
    "    \n",
    "players\n",
    "            "
   ]
  },
  {
   "cell_type": "code",
   "execution_count": 17,
   "metadata": {
    "collapsed": false,
    "scrolled": true
   },
   "outputs": [
    {
     "data": {
      "text/plain": [
       "{0: (57, 15, 72),\n",
       " 1: (22, 24, 46),\n",
       " 2: (35, 19, 54),\n",
       " 3: (32, 25, 57),\n",
       " 4: (58, 12, 70),\n",
       " 5: (45, 24, 69),\n",
       " 6: (12, 24, 36),\n",
       " 7: (34, 22, 56),\n",
       " 8: (22, 16, 38),\n",
       " 9: (21, 25, 46),\n",
       " 10: (47, 12, 59),\n",
       " 11: (29, 18, 47),\n",
       " 12: (16, 12, 28),\n",
       " 13: (9, 14, 23),\n",
       " 14: (22, 16, 38),\n",
       " 15: (67, 7, 74),\n",
       " 16: (24, 23, 47),\n",
       " 17: (19, 24, 43),\n",
       " 18: (15, 22, 37),\n",
       " 19: (20, 23, 43),\n",
       " 20: (26, 18, 44),\n",
       " 21: (15, 21, 36),\n",
       " 22: (16, 17, 33),\n",
       " 23: (31, 9, 40),\n",
       " 24: (29, 24, 53),\n",
       " 25: (33, 23, 56),\n",
       " 26: (17, 22, 39),\n",
       " 27: (10, 21, 31),\n",
       " 28: (27, 16, 43),\n",
       " 29: (50, 19, 69),\n",
       " 30: (15, 24, 39),\n",
       " 31: (29, 20, 49),\n",
       " 32: (29, 26, 55),\n",
       " 33: (41, 22, 63),\n",
       " 34: (12, 19, 31),\n",
       " 35: (17, 16, 33),\n",
       " 36: (8, 16, 24),\n",
       " 37: (16, 16, 32),\n",
       " 38: (4, 10, 14),\n",
       " 39: (17, 19, 36),\n",
       " 40: (17, 22, 39),\n",
       " 41: (29, 25, 54),\n",
       " 42: (36, 22, 58),\n",
       " 43: (15, 26, 41),\n",
       " 44: (15, 8, 23),\n",
       " 45: (19, 23, 42),\n",
       " 46: (25, 17, 42),\n",
       " 47: (37, 26, 63),\n",
       " 48: (17, 25, 42),\n",
       " 49: (5, 8, 13),\n",
       " 50: (13, 25, 38),\n",
       " 51: (9, 26, 35),\n",
       " 52: (19, 23, 42),\n",
       " 53: (7, 23, 30),\n",
       " 54: (14, 21, 35),\n",
       " 55: (10, 22, 32),\n",
       " 56: (6, 9, 15),\n",
       " 57: (12, 9, 21),\n",
       " 58: (5, 9, 14),\n",
       " 59: (15, 24, 39),\n",
       " 60: (12, 20, 32),\n",
       " 61: (14, 15, 29),\n",
       " 62: (26, 25, 51),\n",
       " 63: (12, 16, 28),\n",
       " 64: (17, 20, 37),\n",
       " 65: (15, 17, 32),\n",
       " 66: (7, 18, 25),\n",
       " 67: (8, 21, 29),\n",
       " 68: (23, 26, 49),\n",
       " 69: (12, 11, 23),\n",
       " 70: (4, 10, 14),\n",
       " 71: (12, 15, 27),\n",
       " 72: (12, 20, 32),\n",
       " 73: (13, 23, 36),\n",
       " 74: (3, 13, 16),\n",
       " 75: (16, 24, 40),\n",
       " 76: (14, 20, 34),\n",
       " 77: (13, 26, 39),\n",
       " 78: (17, 20, 37),\n",
       " 79: (29, 25, 54),\n",
       " 80: (8, 21, 29),\n",
       " 81: (18, 25, 43),\n",
       " 82: (2, 6, 8),\n",
       " 83: (12, 21, 33),\n",
       " 84: (9, 19, 28),\n",
       " 85: (5, 12, 17),\n",
       " 86: (15, 17, 32),\n",
       " 87: (4, 9, 13),\n",
       " 88: (4, 11, 15),\n",
       " 89: (12, 21, 33),\n",
       " 90: (16, 23, 39),\n",
       " 91: (7, 12, 19),\n",
       " 92: (10, 16, 26),\n",
       " 93: (8, 13, 21),\n",
       " 94: (11, 16, 27),\n",
       " 95: (5, 5, 10),\n",
       " 96: (0, 3, 3),\n",
       " 97: (0, 2, 2),\n",
       " 98: (0, 1, 1),\n",
       " 99: (1, 1, 2),\n",
       " 100: (1, 1, 2),\n",
       " 101: (0, 4, 4),\n",
       " 102: (0, 1, 1),\n",
       " 103: (0, 1, 1),\n",
       " 104: (1, 5, 6),\n",
       " 105: (0, 1, 1),\n",
       " 106: (0, 1, 1)}"
      ]
     },
     "execution_count": 17,
     "metadata": {},
     "output_type": "execute_result"
    }
   ],
   "source": [
    "players = dict(map(lambda(k,v): (k, (v[0], v[1], v[0]+v[1])), players.iteritems() ))\n",
    "players"
   ]
  },
  {
   "cell_type": "code",
   "execution_count": 18,
   "metadata": {
    "collapsed": false
   },
   "outputs": [
    {
     "data": {
      "text/plain": [
       "{0: (57, 15, 72, 0.7916666666666666, u'Rafael-Nadal'),\n",
       " 1: (22, 24, 46, 0.4782608695652174, u'Juan-Monaco'),\n",
       " 2: (35, 19, 54, 0.6481481481481481, u'Juan-Martin-Del-Potro'),\n",
       " 3: (32, 25, 57, 0.5614035087719298, u'Mardy-Fish'),\n",
       " 4: (58, 12, 70, 0.8285714285714286, u'Roger-Federer'),\n",
       " 5: (45, 24, 69, 0.6521739130434783, u'Jo-Wilfried-Tsonga'),\n",
       " 6: (12, 24, 36, 0.3333333333333333, u'Guillermo-Garcia-Lopez'),\n",
       " 7: (34, 22, 56, 0.6071428571428571, u'Florian-Mayer'),\n",
       " 8: (22, 16, 38, 0.5789473684210527, u'Milos-Raonic'),\n",
       " 9: (21, 25, 46, 0.45652173913043476, u'Santiago-Giraldo'),\n",
       " 10: (47, 12, 59, 0.7966101694915254, u'Andy-Murray'),\n",
       " 11: (29, 18, 47, 0.6170212765957447, u'Richard-Gasquet'),\n",
       " 12: (16, 12, 28, 0.5714285714285714, u'David-Nalbandian'),\n",
       " 13: (9, 14, 23, 0.391304347826087, u'Gilles-Muller'),\n",
       " 14: (22, 16, 38, 0.5789473684210527, u'Andy-Roddick'),\n",
       " 15: (67, 7, 74, 0.9054054054054054, u'Novak-Djokovic'),\n",
       " 16: (24, 23, 47, 0.5106382978723404, u'Fernando-Verdasco'),\n",
       " 17: (19, 24, 43, 0.4418604651162791, u'Ivan-Dodig'),\n",
       " 18: (15, 22, 37, 0.40540540540540543, u'Ryan-Sweeting'),\n",
       " 19: (20, 23, 43, 0.46511627906976744, u'Radek-Stepanek'),\n",
       " 20: (26, 18, 44, 0.5909090909090909, u'John-Isner'),\n",
       " 21: (15, 21, 36, 0.4166666666666667, u'Pablo-Andujar'),\n",
       " 22: (16, 17, 33, 0.48484848484848486, u'Ivan-Ljubicic'),\n",
       " 23: (31, 9, 40, 0.775, u'Robin-Soderling'),\n",
       " 24: (29, 24, 53, 0.5471698113207547, u'Feliciano-Lopez'),\n",
       " 25: (33, 23, 56, 0.5892857142857143, u'Marin-Cilic'),\n",
       " 26: (17, 22, 39, 0.4358974358974359, u'Marcos-Baghdatis'),\n",
       " 27: (10, 21, 31, 0.3225806451612903, u'Michael-Llodra'),\n",
       " 28: (27, 16, 43, 0.627906976744186, u'Gael-Monfils'),\n",
       " 29: (50, 19, 69, 0.7246376811594203, u'David-Ferrer'),\n",
       " 30: (15, 24, 39, 0.38461538461538464, u'Jarkko-Nieminen'),\n",
       " 31: (29, 20, 49, 0.5918367346938775, u'Kei-Nishikori'),\n",
       " 32: (29, 26, 55, 0.5272727272727272, u'Alexandr-Dolgopolov'),\n",
       " 33: (41, 22, 63, 0.6507936507936508, u'Tomas-Berdych'),\n",
       " 34: (12, 19, 31, 0.3870967741935484, u'Somdev-K-Devvarman'),\n",
       " 35: (17, 16, 33, 0.5151515151515151, u'Ivo-Karlovic'),\n",
       " 36: (8, 16, 24, 0.3333333333333333, u'Olivier-Rochus'),\n",
       " 37: (16, 16, 32, 0.5, u'Bernard-Tomic'),\n",
       " 38: (4, 10, 14, 0.2857142857142857, u'Karol-Beck'),\n",
       " 39: (17, 19, 36, 0.4722222222222222, u'Ernests-Gulbis'),\n",
       " 40: (17, 22, 39, 0.4358974358974359, u'Nikolay-Davydenko'),\n",
       " 41: (29, 25, 54, 0.5370370370370371, u'Gilles-Simon'),\n",
       " 42: (36, 22, 58, 0.6206896551724138, u'Nicolas-Almagro'),\n",
       " 43: (15, 26, 41, 0.36585365853658536, u'Fabio-Fognini'),\n",
       " 44: (15, 8, 23, 0.6521739130434783, u'Juan-Carlos-Ferrero'),\n",
       " 45: (19, 23, 42, 0.4523809523809524, u'Marcel-Granollers'),\n",
       " 46: (25, 17, 42, 0.5952380952380952, u'Stanislas-Wawrinka'),\n",
       " 47: (37, 26, 63, 0.5873015873015873, u'Janko-Tipsarevic'),\n",
       " 48: (17, 25, 42, 0.40476190476190477, u'Andreas-Seppi'),\n",
       " 49: (5, 8, 13, 0.38461538461538464, u'Simone-Bolelli'),\n",
       " 50: (13, 25, 38, 0.34210526315789475, u'Carlos-Berlocq'),\n",
       " 51: (9, 26, 35, 0.2571428571428571, u'Mikhail-Kukushkin'),\n",
       " 52: (19, 23, 42, 0.4523809523809524, u'Mikhail-Youzhny'),\n",
       " 53: (7, 23, 30, 0.23333333333333334, u'Grigor-Dimitrov'),\n",
       " 54: (14, 21, 35, 0.4, u'Sergiy-Stakhovsky'),\n",
       " 55: (10, 22, 32, 0.3125, u'Victor-Hanescu'),\n",
       " 56: (6, 9, 15, 0.4, u'Horacio-Zeballos'),\n",
       " 57: (12, 9, 21, 0.5714285714285714, u'Pablo-Cuevas'),\n",
       " 58: (5, 9, 14, 0.35714285714285715, u'Eduardo-Schwank'),\n",
       " 59: (15, 24, 39, 0.38461538461538464, u'Robin-Haase'),\n",
       " 60: (12, 20, 32, 0.375, u'Adrian-Mannarino'),\n",
       " 61: (14, 15, 29, 0.4827586206896552, u'Dmitry-Tursunov'),\n",
       " 62: (26, 25, 51, 0.5098039215686274, u'Kevin-Anderson'),\n",
       " 63: (12, 16, 28, 0.42857142857142855, u'Sam-Querrey'),\n",
       " 64: (17, 20, 37, 0.4594594594594595, u'Philipp-Petzschner'),\n",
       " 65: (15, 17, 32, 0.46875, u'James-Blake'),\n",
       " 66: (7, 18, 25, 0.28, u'Denis-Istomin'),\n",
       " 67: (8, 21, 29, 0.27586206896551724, u'Igor-Kunitsyn'),\n",
       " 68: (23, 26, 49, 0.46938775510204084, u'Philipp-Kohlschreiber'),\n",
       " 69: (12, 11, 23, 0.5217391304347826, u'Tommy-Robredo'),\n",
       " 70: (4, 10, 14, 0.2857142857142857, u'Lleyton-Hewitt'),\n",
       " 71: (12, 15, 27, 0.4444444444444444, u'Ryan-Harrison'),\n",
       " 72: (12, 20, 32, 0.375, u'Albert-Ramos'),\n",
       " 73: (13, 23, 36, 0.3611111111111111, u'Potito-Starace'),\n",
       " 74: (3, 13, 16, 0.1875, u'Rui-Machado'),\n",
       " 75: (16, 24, 40, 0.4, u'Xavier-Malisse'),\n",
       " 76: (14, 20, 34, 0.4117647058823529, u'Jurgen-Melzer'),\n",
       " 77: (13, 26, 39, 0.3333333333333333, u'Igor-Andreev'),\n",
       " 78: (17, 20, 37, 0.4594594594594595, u'Juan-Ignacio-Chela'),\n",
       " 79: (29, 25, 54, 0.5370370370370371, u'Viktor-Troicki'),\n",
       " 80: (8, 21, 29, 0.27586206896551724, u'Yen-Hsun-Lu'),\n",
       " 81: (18, 25, 43, 0.4186046511627907, u'Alex-Bogomolov-Jr'),\n",
       " 82: (2, 6, 8, 0.25, u'Fernando-Gonzalez'),\n",
       " 83: (12, 21, 33, 0.36363636363636365, u'Michael-Berrer'),\n",
       " 84: (9, 19, 28, 0.32142857142857145, u'Pere-Riba'),\n",
       " 85: (5, 12, 17, 0.29411764705882354, u'Ruben-Ramirez-Hidalgo'),\n",
       " 86: (15, 17, 32, 0.46875, u'Lukasz-Kubot'),\n",
       " 87: (4, 9, 13, 0.3076923076923077, u'Robert-Kendrick'),\n",
       " 88: (4, 11, 15, 0.26666666666666666, u'Dustin-Brown'),\n",
       " 89: (12, 21, 33, 0.36363636363636365, u'Thomaz-Bellucci'),\n",
       " 90: (16, 23, 39, 0.41025641025641024, u'Albert-Montanes'),\n",
       " 91: (7, 12, 19, 0.3684210526315789, u'Andreas-Haider-Maurer'),\n",
       " 92: (10, 16, 26, 0.38461538461538464, u'Jeremy-Chardy'),\n",
       " 93: (8, 13, 21, 0.38095238095238093, u'Arnaud-Clement'),\n",
       " 94: (11, 16, 27, 0.4074074074074074, u'Lukas-Rosol'),\n",
       " 95: (5, 5, 10, 0.5, u'Rajeev-Ram'),\n",
       " 96: (0, 3, 3, 0.0, u'Alexander-Peya'),\n",
       " 97: (0, 2, 2, 0.0, u'Juan-Sebastian-Cabal'),\n",
       " 98: (0, 1, 1, 0.0, u'Colin-Fleming'),\n",
       " 99: (1, 1, 2, 0.5, u'Santiago-Gonzalez'),\n",
       " 100: (1, 1, 2, 0.5, u'Marc-Lopez'),\n",
       " 101: (0, 4, 4, 0.0, u'Rohan-Bopanna'),\n",
       " 102: (0, 1, 1, 0.0, u'Michael-Kohlmann'),\n",
       " 103: (0, 1, 1, 0.0, u'Simon-Aspelin'),\n",
       " 104: (1, 5, 6, 0.16666666666666666, u'Mikhail-Elgin'),\n",
       " 105: (0, 1, 1, 0.0, u'Robert-Lindstedt'),\n",
       " 106: (0, 1, 1, 0.0, u'Jean-Julien-Rojer')}"
      ]
     },
     "execution_count": 18,
     "metadata": {},
     "output_type": "execute_result"
    }
   ],
   "source": [
    "#provisional player score based on number of wins divided by number of games played\n",
    "players = dict(map(lambda(k,v): (k, (v[0], v[1], v[2], operator.truediv(v[0], v[2]))), players.iteritems() ))\n",
    "#add names to dictionary\n",
    "players = dict(map(lambda(k,v): (k, (v[0], v[1], v[2], v[3], tennis_players[k])), players.iteritems() ))\n",
    "players\n",
    "#wtf is the u doing in front of players's names"
   ]
  },
  {
   "cell_type": "code",
   "execution_count": 19,
   "metadata": {
    "collapsed": false
   },
   "outputs": [
    {
     "name": "stdout",
     "output_type": "stream",
     "text": [
      "Juan-Monaco\n",
      "0.478260869565\n",
      "\n",
      "Florian-Mayer\n",
      "0.607142857143\n"
     ]
    }
   ],
   "source": [
    "def print_prediction(p1, p2):\n",
    "    \"Takes IDs of two players. prints player names and score. Higher score means better chances to win match.\"\n",
    "    print players.values()[p1][4]\n",
    "    print players.values()[p1][3]\n",
    "    print\n",
    "    print players.values()[p2][4]\n",
    "    print players.values()[p2][3]\n",
    "    return\n",
    "\n",
    "print_prediction(1, 7)"
   ]
  },
  {
   "cell_type": "code",
   "execution_count": 67,
   "metadata": {
    "collapsed": false
   },
   "outputs": [
    {
     "name": "stdout",
     "output_type": "stream",
     "text": [
      "[ 1.  1.  1.  1.  1.  1.  1.  1.  1.  1.  1.  1.  1.  1.  1.  1.  1.  1.\n",
      "  1.  1.  1.  1.  1.  1.  1.  1.  1.  1.  1.  1.  1.  1.  1.  1.  1.  1.\n",
      "  1.  1.  1.  1.  1.  1.  1.  1.  1.  1.  1.  1.  1.  1.  1.  1.  1.  1.\n",
      "  1.  1.  1.  0.  0.  0.  0.  0.  0.  0.  0.  0.  0.  0.  0.  0.  0.  0.]\n"
     ]
    },
    {
     "data": {
      "image/png": "[encoded data removed]",
      "text/plain": [
       "<matplotlib.figure.Figure at 0x7fd7a51dc890>"
      ]
     },
     "metadata": {},
     "output_type": "display_data"
    },
    {
     "name": "stdout",
     "output_type": "stream",
     "text": [
      "theta:  0.370799836896\n",
      " [-----------------100%-----------------] 11000 of 11000 complete in 1.3 secPlotting alpha\n"
     ]
    },
    {
     "data": {
      "image/png": "[encoded data removed]",
      "text/plain": [
       "<matplotlib.figure.Figure at 0x7fd7a4d60710>"
      ]
     },
     "metadata": {},
     "output_type": "display_data"
    }
   ],
   "source": [
    "#http://people.duke.edu/~ccc14/sta-663/PyMC2.html?highlight=invlogit\n",
    "#http://bagrow.com/ds2/LEC20_notes_2014-11-04.html\n",
    "\n",
    "def get_observed_data(player_number):\n",
    "    #data = np.array(players.values()[player_number][2])\n",
    "    dataWins = np.ones(players[player_number][0])\n",
    "    dataLosses = np.zeros(players[player_number][1])\n",
    "    data = np.concatenate([dataWins, dataLosses])\n",
    "    return data\n",
    "\n",
    "#observed data\n",
    "# n = number of matches played (per player)\n",
    "n = 72\n",
    "# x = log of number of wins\n",
    "x = 57\n",
    "# y_obs = observed data\n",
    "y_obs = get_observed_data(0)\n",
    "print y_obs\n",
    "\n",
    "    \n",
    "#define priors\n",
    "alpha = pymc.Normal('alpha', mu=0.25, tau=1.)\n",
    "beta = pymc.Normal('beta', mu=0.75, tau=1.)\n",
    "plt.plot(alpha, beta)\n",
    "plt.show()\n",
    "\n",
    "#define likelihood\n",
    "theta = pymc.invlogit(alpha)\n",
    "print \"theta: \", theta\n",
    "y = pymc.Binomial('y_obs', n=n, p=theta, value=y_obs, observed=True)\n",
    "\n",
    "#inference\n",
    "m = pymc.Model([alpha, y])\n",
    "mc = pymc.MCMC(m)\n",
    "sample = mc.sample(iter=11000, burn=10000)\n",
    "pymc.Matplot.plot(mc)"
   ]
  },
  {
   "cell_type": "code",
   "execution_count": null,
   "metadata": {
    "collapsed": true
   },
   "outputs": [],
   "source": []
  }
 ],
 "metadata": {
  "kernelspec": {
   "display_name": "Python 2",
   "language": "python",
   "name": "python2"
  },
  "language_info": {
   "codemirror_mode": {
    "name": "ipython",
    "version": 2
   },
   "file_extension": ".py",
   "mimetype": "text/x-python",
   "name": "python",
   "nbconvert_exporter": "python",
   "pygments_lexer": "ipython2",
   "version": "2.7.11"
  }
 },
 "nbformat": 4,
 "nbformat_minor": 0
}
