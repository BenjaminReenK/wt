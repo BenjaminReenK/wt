{
 "cells": [
  {
   "cell_type": "markdown",
   "metadata": {
    "slideshow": {
     "slide_type": "slide"
    }
   },
   "source": [
    "## Pymc Exercise"
   ]
  },
  {
   "cell_type": "code",
   "execution_count": 97,
   "metadata": {
    "collapsed": false,
    "slideshow": {
     "slide_type": "notes"
    }
   },
   "outputs": [],
   "source": [
    "%matplotlib inline\n",
    "from IPython.core.pylabtools import figsize\n",
    "import numpy as np\n",
    "from pymc import *\n",
    "from matplotlib import pyplot as plt\n",
    "import pandas as pd\n",
    "import scipy\n",
    "from scipy import stats\n",
    "from pylab import hist, show"
   ]
  },
  {
   "cell_type": "markdown",
   "metadata": {
    "slideshow": {
     "slide_type": "slide"
    }
   },
   "source": [
    "#### Exercise 1:  Estimating mean and standard deviation of normal distributed data"
   ]
  },
  {
   "cell_type": "markdown",
   "metadata": {
    "slideshow": {
     "slide_type": "slide"
    }
   },
   "source": [
    "Given are normal distributed data:\n",
    "$$\n",
    " X \\sim \\mathcal N(\\mu, \\sigma^2)\n",
    "$$\n",
    "\n",
    "\n",
    "Probability Density Function:\n",
    "$$\n",
    "f(X \\mid \\mu, \\tau) = \\sqrt{\\frac{\\tau}{2\\pi}} \\exp\\left\\{ -\\frac{\\tau}{2} (X-\\mu)^2 \\right\\}\n",
    "$$\n",
    "\n",
    "with  \n",
    "- $\\mu$: mean\n",
    "- $\\sigma$: standard deviation\n",
    "- $\\sigma^2$ : variance\n",
    "- precision $\\tau := 1/\\sigma^2$ "
   ]
  },
  {
   "cell_type": "code",
   "execution_count": 98,
   "metadata": {
    "collapsed": false,
    "scrolled": true,
    "slideshow": {
     "slide_type": "slide"
    }
   },
   "outputs": [
    {
     "data": {
      "text/plain": [
       "(array([  1.,   2.,   0.,  10.,  16.,  23.,  23.,  12.,   8.,   5.]),\n",
       " array([  3.03541225,   4.12695821,   5.21850416,   6.31005012,\n",
       "          7.40159608,   8.49314204,   9.584688  ,  10.67623395,\n",
       "         11.76777991,  12.85932587,  13.95087183]),\n",
       " <a list of 10 Patch objects>)"
      ]
     },
     "execution_count": 98,
     "metadata": {},
     "output_type": "execute_result"
    },
    {
     "data": {
      "image/png": "[encoded data removed]",
      "text/plain": [
       "<matplotlib.figure.Figure at 0x7f74549f09d0>"
      ]
     },
     "metadata": {},
     "output_type": "display_data"
    }
   ],
   "source": [
    "# load the data from file\n",
    "y = np.load(\"normal_data.npy\")\n",
    "\n",
    "plt.hist(y)"
   ]
  },
  {
   "cell_type": "markdown",
   "metadata": {
    "slideshow": {
     "slide_type": "slide"
    }
   },
   "source": [
    "#### Exercise\n",
    "- Use pymc to determine the mean and standard deviation of the data.\n",
    "- Plot the distribution of the mean and the standard deviation\n",
    "- What is the 95% credible intervall of the mean and the standard deviation?"
   ]
  },
  {
   "cell_type": "code",
   "execution_count": 100,
   "metadata": {
    "collapsed": false,
    "scrolled": true,
    "slideshow": {
     "slide_type": "slide"
    }
   },
   "outputs": [
    {
     "name": "stdout",
     "output_type": "stream",
     "text": [
      " [-----------------100%-----------------] 20000 of 20000 complete in 1.4 sec\n",
      "mean:  9.51065710701\n",
      "standard deviation:  1.96410832841\n",
      "Confidence Interval: 9.12198949827 - 9.87741951933\n",
      "confidence interval: 5.66107552159 - 13.3602386924\n"
     ]
    },
    {
     "data": {
      "image/png": "[encoded data removed]",
      "text/plain": [
       "<matplotlib.figure.Figure at 0x7f7459f68a10>"
      ]
     },
     "metadata": {},
     "output_type": "display_data"
    }
   ],
   "source": [
    "# priors / our parameters\n",
    "mu = pymc.Uniform('mu', lower=0, upper=10)\n",
    "tau = pymc.Uniform('tau', lower=0, upper=1)\n",
    "\n",
    "# likelihood using normal distribution\n",
    "y_observed = pymc.Normal('y_observed', mu=mu, tau=tau, value=y, observed=True)\n",
    "\n",
    "# creating model\n",
    "model = pymc.Model([mu, tau, y])\n",
    "mc = pymc.MCMC(model)\n",
    "# sampling --> 20k samples, burn first 10k \n",
    "mc.sample(iter=20000, burn=10000)\n",
    "\n",
    "# mean and standard deviation\n",
    "samples = np.array(mu.trace())\n",
    "mean = np.mean(means)\n",
    "print \"\"\n",
    "print \"mean: \", mean\n",
    "std_devs = np.sqrt(1.0 / tau.trace())\n",
    "std_dev = np.mean(std_devs)\n",
    "print \"standard deviation: \", std_dev\n",
    "\n",
    "# plotting\n",
    "plt.subplot(121)\n",
    "# mean plot\n",
    "plt.hist(mu.trace(), normed=True)\n",
    "plt.subplot(122)\n",
    "# standard deviation plot\n",
    "plt.hist(np.sqrt(1.0/tau.trace()), normed=True)\n",
    "plt.show\n",
    "\n",
    "# confidence interval\n",
    "ci=scipy.stats.norm.interval(0.95, loc=mean, scale=std_dev)\n",
    "print \"Confidence Interval: \" + str(np.percentile(samples, 2.5)) + \" - \" + str(np.percentile(samples, 97.5))\n",
    "print \"confidence interval: \" + str(ci[0]) + \" - \" + str(ci[1])\n",
    "\n",
    "\n"
   ]
  },
  {
   "cell_type": "markdown",
   "metadata": {
    "slideshow": {
     "slide_type": "slide"
    }
   },
   "source": [
    "### Estimating parameters of a linear regression model"
   ]
  },
  {
   "cell_type": "markdown",
   "metadata": {
    "slideshow": {
     "slide_type": "slide"
    }
   },
   "source": [
    "Simple linear model:\n",
    "\n",
    "$$\n",
    "y \\sim ax + b\n",
    "$$ \n",
    "\n",
    "\n",
    "Linear model with noise:\n",
    "$$\n",
    "y = ax + b + \\epsilon\n",
    "$$\n",
    "\n",
    "Considered as sampling from a probability distribution\n",
    "\n",
    "$$\n",
    "y \\sim \\mathcal N (ax + b, \\sigma^2)\n",
    "$$ \n",
    "\n",
    "\n"
   ]
  },
  {
   "cell_type": "code",
   "execution_count": 91,
   "metadata": {
    "collapsed": true,
    "slideshow": {
     "slide_type": "slide"
    }
   },
   "outputs": [],
   "source": [
    "data = pd.read_pickle(\"linear_data.pkl\")"
   ]
  },
  {
   "cell_type": "code",
   "execution_count": 92,
   "metadata": {
    "collapsed": false,
    "slideshow": {
     "slide_type": "slide"
    }
   },
   "outputs": [
    {
     "data": {
      "text/plain": [
       "<matplotlib.axes._subplots.AxesSubplot at 0x7f74549526d0>"
      ]
     },
     "execution_count": 92,
     "metadata": {},
     "output_type": "execute_result"
    },
    {
     "data": {
      "image/png": "[encoded data removed]",
      "text/plain": [
       "<matplotlib.figure.Figure at 0x7f74549520d0>"
      ]
     },
     "metadata": {},
     "output_type": "display_data"
    }
   ],
   "source": [
    "data.plot(x='x', y='y', kind='scatter', s=50)"
   ]
  },
  {
   "cell_type": "markdown",
   "metadata": {
    "slideshow": {
     "slide_type": "slide"
    }
   },
   "source": [
    "Exercise:\n",
    "\n",
    "- Use pymc to estimate the paramters $a, b$ and $\\sigma$. Assume appropirate priors.\n",
    "- Plot the distribution of the parameters.\n",
    "- Plot the data with multiple regression lines. \n",
    "\n"
   ]
  },
  {
   "cell_type": "code",
   "execution_count": 95,
   "metadata": {
    "collapsed": false,
    "scrolled": false
   },
   "outputs": [
    {
     "name": "stdout",
     "output_type": "stream",
     "text": [
      " [-----------------100%-----------------] 20000 of 20000 complete in 2.4 sec\n",
      "sigma:  6.93008507638\n",
      "a mean:  20.2772210269\n",
      "b mean:  3.18822188912\n"
     ]
    },
    {
     "data": {
      "image/png": "[encoded data removed]",
      "text/plain": [
       "<matplotlib.figure.Figure at 0x7f74589306d0>"
      ]
     },
     "metadata": {},
     "output_type": "display_data"
    },
    {
     "data": {
      "image/png": "[encoded data removed]",
      "text/plain": [
       "<matplotlib.figure.Figure at 0x7f7454533710>"
      ]
     },
     "metadata": {},
     "output_type": "display_data"
    }
   ],
   "source": [
    "sigma =  np.std(data.y)\n",
    "\n",
    "# number of y values\n",
    "n = data.y.size\n",
    "# Return evenly spaced numbers over a specified interval\n",
    "x = np.linspace(0, 1, n)\n",
    "\n",
    "# priors\n",
    "#a = pymc.Normal('a', mu=0, tau=1.0 / 1000)\n",
    "#b = pymc.Normal('b', mu=0, tau=1.0 / 1000)\n",
    "a = pymc.Normal('a', mu=20, tau=6)\n",
    "b = pymc.Normal('b', mu=2, tau=2)\n",
    "tau = pymc.Gamma('tau', alpha=0.1, beta=0.1)\n",
    "\n",
    "# likelihood, simple linear model\n",
    "@pymc.deterministic\n",
    "def mu(a=a, b=b, x=x):\n",
    "    return a*x + b\n",
    "\n",
    "# normal distribution\n",
    "y = pymc.Normal('y', mu=mu, tau=tau, value=data.y, observed=True)\n",
    "\n",
    "# creating model\n",
    "model = pymc.Model([a, b, tau, x, y])\n",
    "mc = pymc.MCMC(model)\n",
    "# sampling\n",
    "mc.sample(iter=20000, burn=10000)\n",
    "# samples and mean calculating\n",
    "samples_a = np.array(a.trace())\n",
    "mean_a = np.mean(samples_a)\n",
    "samples_b = np.array(b.trace())\n",
    "mean_b = np.mean(samples_b)\n",
    "\n",
    "\n",
    "print \"\"\n",
    "print \"sigma: \", sigma\n",
    "print \"a mean: \", mean_a\n",
    "print \"b mean: \", mean_b\n",
    "\n",
    "# plotting\n",
    "plt.subplot(221)\n",
    "plt.hist(a.trace(), normed=True)\n",
    "plt.subplot(222)\n",
    "plt.hist(b.trace(), normed=True)\n",
    "plt.subplot(223)\n",
    "plt.hist(tau.trace(), normed=True)\n",
    "plt.show\n",
    "\n",
    "data.plot(x='x', y='y', kind='scatter', s=50)\n",
    "xp = np.array([x.min(), x.max()])\n",
    "plt.plot(a.trace()*xp[:, None] + b.trace(), c='red', alpha=0.01)\n",
    "plt.plot(xp, mean_a*xp + mean_b, linewidth=2, c='red');\n"
   ]
  },
  {
   "cell_type": "code",
   "execution_count": null,
   "metadata": {
    "collapsed": true
   },
   "outputs": [],
   "source": []
  },
  {
   "cell_type": "code",
   "execution_count": null,
   "metadata": {
    "collapsed": true
   },
   "outputs": [],
   "source": []
  }
 ],
 "metadata": {
  "celltoolbar": "Slideshow",
  "kernelspec": {
   "display_name": "Python 2",
   "language": "python",
   "name": "python2"
  },
  "language_info": {
   "codemirror_mode": {
    "name": "ipython",
    "version": 2
   },
   "file_extension": ".py",
   "mimetype": "text/x-python",
   "name": "python",
   "nbconvert_exporter": "python",
   "pygments_lexer": "ipython2",
   "version": "2.7.11"
  }
 },
 "nbformat": 4,
 "nbformat_minor": 0
}
